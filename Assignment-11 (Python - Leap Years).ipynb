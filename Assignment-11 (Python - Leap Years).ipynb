{
 "cells": [
  {
   "cell_type": "code",
   "execution_count": 1,
   "id": "513320ed",
   "metadata": {},
   "outputs": [
    {
     "name": "stdout",
     "output_type": "stream",
     "text": [
      "Enter a year please: 2000\n",
      "2000 is a leap year.\n"
     ]
    }
   ],
   "source": [
    "year = int(input(\"Enter a year please: \"))\n",
    "\n",
    "leap = (year % 4 == 0) and bool((year % 100) or not (year % 400))\n",
    "\n",
    "if leap == True:\n",
    "    print(\"{} is a leap year.\".format(year))\n",
    "    \n",
    "else:\n",
    "    print(\"{} is not a leap year.\".format(year))"
   ]
  },
  {
   "cell_type": "code",
   "execution_count": 2,
   "id": "68f80c23",
   "metadata": {},
   "outputs": [
    {
     "name": "stdout",
     "output_type": "stream",
     "text": [
      "Enter a year please: 2100\n",
      "2100 is not a leap year.\n"
     ]
    }
   ],
   "source": [
    "year = int(input(\"Enter a year please: \"))\n",
    "\n",
    "leap = (year % 4 == 0) and bool((year % 100) or not (year % 400))\n",
    "\n",
    "if leap == True:\n",
    "    print(\"{} is a leap year.\".format(year))\n",
    "    \n",
    "else:\n",
    "    print(\"{} is not a leap year.\".format(year))"
   ]
  },
  {
   "cell_type": "markdown",
   "id": "62e6f60a",
   "metadata": {},
   "source": [
    "#  Problem was solved by using boolean operator and control flow statement. When we enter a year for being four digit numbers, program will give us an answer that is a leap year or is not a leap year. "
   ]
  }
 ],
 "metadata": {
  "kernelspec": {
   "display_name": "Python 3 (ipykernel)",
   "language": "python",
   "name": "python3"
  },
  "language_info": {
   "codemirror_mode": {
    "name": "ipython",
    "version": 3
   },
   "file_extension": ".py",
   "mimetype": "text/x-python",
   "name": "python",
   "nbconvert_exporter": "python",
   "pygments_lexer": "ipython3",
   "version": "3.9.12"
  }
 },
 "nbformat": 4,
 "nbformat_minor": 5
}
