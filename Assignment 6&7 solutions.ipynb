{
 "cells": [
  {
   "cell_type": "markdown",
   "id": "d3d8ad55",
   "metadata": {},
   "source": [
    "<a id=\"toc\"></a>\n",
    "\n",
    "## <p style=\"background-color:#9d4f8c; font-family:newtimeroman; color:#FFF9ED; font-size:175%; text-align:center; border-radius:10px 10px;\">Assignment-6 (The Most Frequent Element)</p>"
   ]
  },
  {
   "cell_type": "markdown",
   "id": "9659034f",
   "metadata": {},
   "source": [
    "<div class=\"alert alert-block alert-info\">\n",
    "<font color=red><b>Task :</b></font> \n",
    "<font color=purple><b>Find out the most frequent number and its frequency.</b></font><br><br>\n",
    "<font color=red>Note :</font>You may need to use useful/necessary <font color=red>built-in functions</font> and <font color=red>list</font>  methods other than the functions we haven't covered in the lessons yet.<br><br> \n",
    "<font color=darkblue>Write a program that;<br><br>\n",
    "Finds out the most frequent number in the given list.<br>\n",
    "Calculates its frequency.<br>\n",
    "Prints out the result such as :\n",
    "</font>"
   ]
  },
  {
   "attachments": {
    "image-2.png": {
     "image/png": "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"
    }
   },
   "cell_type": "markdown",
   "id": "9fa70231",
   "metadata": {},
   "source": [
    "![image-2.png](attachment:image-2.png)"
   ]
  },
  {
   "cell_type": "code",
   "execution_count": 6,
   "id": "41896be2",
   "metadata": {},
   "outputs": [],
   "source": [
    "numbers = [1, 3, 7, 4, 6, 3, 0, 3, 6, 3, 7, 6 , 6]"
   ]
  },
  {
   "cell_type": "code",
   "execution_count": 5,
   "id": "260e40f5",
   "metadata": {},
   "outputs": [
    {
     "data": {
      "text/plain": [
       "7"
      ]
     },
     "execution_count": 5,
     "metadata": {},
     "output_type": "execute_result"
    }
   ],
   "source": [
    "max(numbers)"
   ]
  },
  {
   "cell_type": "code",
   "execution_count": 6,
   "id": "e47d3ba7",
   "metadata": {},
   "outputs": [
    {
     "data": {
      "text/plain": [
       "35"
      ]
     },
     "execution_count": 6,
     "metadata": {},
     "output_type": "execute_result"
    }
   ],
   "source": [
    "max(11, 8, 35)"
   ]
  },
  {
   "cell_type": "code",
   "execution_count": 4,
   "id": "3179ec38",
   "metadata": {},
   "outputs": [
    {
     "data": {
      "text/plain": [
       "'y'"
      ]
     },
     "execution_count": 4,
     "metadata": {},
     "output_type": "execute_result"
    }
   ],
   "source": [
    "max(\"clarusway\")"
   ]
  },
  {
   "cell_type": "code",
   "execution_count": 5,
   "id": "ca041c9d",
   "metadata": {},
   "outputs": [],
   "source": [
    "empty = []"
   ]
  },
  {
   "cell_type": "code",
   "execution_count": 9,
   "id": "a90694e8",
   "metadata": {},
   "outputs": [
    {
     "ename": "ValueError",
     "evalue": "max() arg is an empty sequence",
     "output_type": "error",
     "traceback": [
      "\u001b[1;31m---------------------------------------------------------------------------\u001b[0m",
      "\u001b[1;31mValueError\u001b[0m                                Traceback (most recent call last)",
      "Input \u001b[1;32mIn [9]\u001b[0m, in \u001b[0;36m<cell line: 1>\u001b[1;34m()\u001b[0m\n\u001b[1;32m----> 1\u001b[0m \u001b[38;5;28;43mmax\u001b[39;49m\u001b[43m(\u001b[49m\u001b[43mempty\u001b[49m\u001b[43m)\u001b[49m\n",
      "\u001b[1;31mValueError\u001b[0m: max() arg is an empty sequence"
     ]
    }
   ],
   "source": [
    "max(empty)"
   ]
  },
  {
   "cell_type": "code",
   "execution_count": 10,
   "id": "059252d1",
   "metadata": {},
   "outputs": [
    {
     "data": {
      "text/plain": [
       "'Boş'"
      ]
     },
     "execution_count": 10,
     "metadata": {},
     "output_type": "execute_result"
    }
   ],
   "source": [
    "max(empty, default = \"Boş\")"
   ]
  },
  {
   "cell_type": "code",
   "execution_count": 11,
   "id": "1065b948",
   "metadata": {},
   "outputs": [
    {
     "data": {
      "text/plain": [
       "True"
      ]
     },
     "execution_count": 11,
     "metadata": {},
     "output_type": "execute_result"
    }
   ],
   "source": [
    "max(empty, default = True)"
   ]
  },
  {
   "cell_type": "code",
   "execution_count": 13,
   "id": "39f90f7e",
   "metadata": {},
   "outputs": [],
   "source": [
    "sequence = [1, 1, 1, 1, 2, 2, 2, 3, 3, 4]"
   ]
  },
  {
   "cell_type": "code",
   "execution_count": 14,
   "id": "798bc4f8",
   "metadata": {},
   "outputs": [
    {
     "data": {
      "text/plain": [
       "4"
      ]
     },
     "execution_count": 14,
     "metadata": {},
     "output_type": "execute_result"
    }
   ],
   "source": [
    "max(sequence)"
   ]
  },
  {
   "cell_type": "code",
   "execution_count": 15,
   "id": "7b257384",
   "metadata": {},
   "outputs": [
    {
     "data": {
      "text/plain": [
       "1"
      ]
     },
     "execution_count": 15,
     "metadata": {},
     "output_type": "execute_result"
    }
   ],
   "source": [
    "sequence.count(4)"
   ]
  },
  {
   "cell_type": "code",
   "execution_count": 16,
   "id": "a3a7ca00",
   "metadata": {},
   "outputs": [
    {
     "data": {
      "text/plain": [
       "4"
      ]
     },
     "execution_count": 16,
     "metadata": {},
     "output_type": "execute_result"
    }
   ],
   "source": [
    "sequence.count(1)"
   ]
  },
  {
   "cell_type": "code",
   "execution_count": 17,
   "id": "cc20032f",
   "metadata": {},
   "outputs": [
    {
     "data": {
      "text/plain": [
       "[1, 3, 7, 4, 6, 3, 0, 3, 6, 3, 7, 6, 6]"
      ]
     },
     "execution_count": 17,
     "metadata": {},
     "output_type": "execute_result"
    }
   ],
   "source": [
    "numbers"
   ]
  },
  {
   "cell_type": "code",
   "execution_count": 18,
   "id": "505f2c9c",
   "metadata": {},
   "outputs": [
    {
     "data": {
      "text/plain": [
       "7"
      ]
     },
     "execution_count": 18,
     "metadata": {},
     "output_type": "execute_result"
    }
   ],
   "source": [
    "max(numbers)"
   ]
  },
  {
   "cell_type": "code",
   "execution_count": 19,
   "id": "c1a473ff",
   "metadata": {},
   "outputs": [
    {
     "data": {
      "text/plain": [
       "2"
      ]
     },
     "execution_count": 19,
     "metadata": {},
     "output_type": "execute_result"
    }
   ],
   "source": [
    "numbers.count(7)"
   ]
  },
  {
   "cell_type": "code",
   "execution_count": 20,
   "id": "d81ae79c",
   "metadata": {},
   "outputs": [
    {
     "data": {
      "text/plain": [
       "2"
      ]
     },
     "execution_count": 20,
     "metadata": {},
     "output_type": "execute_result"
    }
   ],
   "source": [
    "numbers.count(max(numbers))"
   ]
  },
  {
   "cell_type": "code",
   "execution_count": 21,
   "id": "a45b8182",
   "metadata": {},
   "outputs": [
    {
     "data": {
      "text/plain": [
       "[1, 3, 7, 4, 6, 3, 0, 3, 6, 3, 7, 6, 6]"
      ]
     },
     "execution_count": 21,
     "metadata": {},
     "output_type": "execute_result"
    }
   ],
   "source": [
    "numbers"
   ]
  },
  {
   "cell_type": "code",
   "execution_count": 22,
   "id": "ec7becf2",
   "metadata": {},
   "outputs": [
    {
     "data": {
      "text/plain": [
       "3"
      ]
     },
     "execution_count": 22,
     "metadata": {},
     "output_type": "execute_result"
    }
   ],
   "source": [
    "max(numbers, key = numbers.count)"
   ]
  },
  {
   "cell_type": "code",
   "execution_count": 23,
   "id": "2e1db97c",
   "metadata": {},
   "outputs": [],
   "source": [
    "maximum = max(numbers, key = numbers.count)\n",
    "\n",
    "cnt = numbers.count(max(numbers, key = numbers.count))"
   ]
  },
  {
   "cell_type": "code",
   "execution_count": 24,
   "id": "eee96b84",
   "metadata": {},
   "outputs": [
    {
     "name": "stdout",
     "output_type": "stream",
     "text": [
      "The most frequent number is 3 and it was 4 times repeated\n"
     ]
    }
   ],
   "source": [
    "print(f\"The most frequent number is {maximum} and it was {cnt} times repeated\")"
   ]
  },
  {
   "cell_type": "markdown",
   "id": "a6897281",
   "metadata": {},
   "source": [
    "## sorted() fonksiyonunun da \"key\" parametresi var."
   ]
  },
  {
   "cell_type": "code",
   "execution_count": 25,
   "id": "edf85019",
   "metadata": {},
   "outputs": [],
   "source": [
    "şehirler = [\"istanbul\", \"ağrı\", \"ankara\", \"van\"]"
   ]
  },
  {
   "cell_type": "code",
   "execution_count": 26,
   "id": "d3f1b3eb",
   "metadata": {},
   "outputs": [
    {
     "data": {
      "text/plain": [
       "['ankara', 'ağrı', 'istanbul', 'van']"
      ]
     },
     "execution_count": 26,
     "metadata": {},
     "output_type": "execute_result"
    }
   ],
   "source": [
    "sorted(şehirler)"
   ]
  },
  {
   "cell_type": "code",
   "execution_count": 27,
   "id": "26885420",
   "metadata": {},
   "outputs": [
    {
     "data": {
      "text/plain": [
       "['van', 'ağrı', 'ankara', 'istanbul']"
      ]
     },
     "execution_count": 27,
     "metadata": {},
     "output_type": "execute_result"
    }
   ],
   "source": [
    "sorted(şehirler, key = len)"
   ]
  },
  {
   "cell_type": "code",
   "execution_count": 28,
   "id": "d67c8696",
   "metadata": {},
   "outputs": [
    {
     "data": {
      "text/plain": [
       "['istanbul', 'ankara', 'ağrı', 'van']"
      ]
     },
     "execution_count": 28,
     "metadata": {},
     "output_type": "execute_result"
    }
   ],
   "source": [
    "sorted(şehirler, key = len, reverse = True )"
   ]
  },
  {
   "cell_type": "markdown",
   "id": "51a78c56",
   "metadata": {},
   "source": [
    "<a id=\"toc\"></a>\n",
    "\n",
    "## <p style=\"background-color:#9d4f8c; font-family:newtimeroman; color:#FFF9ED; font-size:175%; text-align:center; border-radius:10px 10px;\">Assignment-7 (Profit Calculator)</p>"
   ]
  },
  {
   "attachments": {
    "image.png": {
     "image/png": "iVBORw0KGgoAAAANSUhEUgAABOoAAAHKCAYAAAC9lqROAAAAAXNSR0IArs4c6QAAAARnQU1BAACxjwv8YQUAAAAJcEhZcwAADsMAAA7DAcdvqGQAAP+lSURBVHhe7P0HnFzZfd+J/ipXdXXOOUc0OiDnnHOcTFKUZMly2vVHu35r+/mt7d3ntXatfZK1lEXKokgOh5yMAQaDnHOj0Y3OOXd15Zxz1fvf6mqgGuhGGmCEIc6XLLJx69a9557zP/90T+CFCTAYDAaDwWAwGAwGg8FgMBiMf1D40f9nMBgMBoPBYDAYDAaDwWAwGP+AsEQdg8FgMBgMBoPBYDAYDAaD8RrAEnUMBoPBYDAYDAaDwWAwGAzGawBL1DEYDAaDwWAwGAwGg8FgMBivASxRx2AwGAwGg8FgMBgMBoPBYLwGsEQdg8FgMBgMBoPBYDAYDAaD8RrACxPRvxmMN4K+nh7ozFY8TfB5fDEyC6tRmRcPAS968FsQdE7h9q1+mINAXs0qLC6W4yVc9umEQ7DrlVBZPAjTMyWnZSIzRcay9AwGg8FgMBgMBoPBYLxmsEQd443jo1/+Bj1jE09N1PGFMixYfxRvrS+A5CVk1Hz6VvzNfzuNcS8Pi/b+E3ywOg2C6HevDL8NA23NuNwyBLPTD740GXWrtmLrktyX8kwMBoPBYDAYDAaDwWAwXh5sUA3jjSMhXoakxHgkcp+EOEgEQbjdHrh9gEQaN3088klEgkz03Yx6e+mE4TKN4+LXX+Hzs03oH1dDqzdAZzTD5vI/NUnJYDAYDAaDwWAwGAwG47uHjahjvHEEAgFwYs8JftjvRN/d0/j8TD94hUvx1v4NqM6JiyTneNx/BAII+S8nVfedjqgL+zHVfgWfnmnCpCWA1PwseKa08MalYdnmgzi0rghSNqKOwWAwGAwGg8FgMBiM1wo2oo7xxiEUCiESiSCmD/f/wugCdDw+H8Lo8envhOCHfLAYlGi5cwNff3MWX526hBsdEzA6vQiGIj+LEAr6Yafz7t++hq9OnsXxby7gSvMgVGYX/MEn5cLDCHrtUI6PobOnF91DKlj90a++LTw+JEl52HT0D/Cnby1FpjB6/BkIc2UaG4qUqW/UjJdVJAaDwWAwGAwGg8FgMBjzI/gPRPRvBuONIxzyQz81gO5BA3jJeVhYU4KMhOnpriGfHQNNZ/HxF2dws2MEE4opjE+Mo7ezDc29JsTnFiInWQJe0IXxzpv4+LPTuN4+hPEpNaYm6byebnQNqID4DGSlJUDgUaPl3hAsQR5yKpehvkCGgNOI9pvn8OnJS2juUcCXXIn6kmSIX0IKnSdKQkVdIxrLMsD3qnCvaRA2QRzySqpRU5QM4RNG1PmM/Th27DTO32hFm0qCJUtKIX/lC+oxGAwGg8FgMBgMBoPxZsNG1DEY8+DU9+Py1XaovTLkFldh2bJFWNpYg6JUMdyGPly61AKVKwi3cQL3WrugMAeQVlCOpUuXYdWShagsSIbXMIbbze2YNLhnrwsXDsPnNKH33g1cvDsIG1KwcPUuvLWh+OUkxHgCJKRnIDst/qVN3WUwGAwGg8FgMBgMBoPxamGJOgZjHvweD6TpRaiqXoDV69Zj66YN2LV1PVYvSAM/HIbbMIEpiw8epw12hwtBiJBbvQS7d2zB4SOH8fa+zVi/vAGVeakQ8UKzEnUBjxWDbbdx4U4PtK44VC5Zh91rKpA47/TUELwuB2y2Rz4Oz1Om1r4YAnkWFi1fhe1bN2LbihLImaZgMBgMBoPBYDAYDAbjlcOmvjLeaJ409VUgkiLsNkKl0tFnEgMDg+gZGINCa4bZ7oVAKkdJbQMKZS6Mj01CbXLCaTdDMTGBoeFRaF18ZBWWo2FhOXJTZeC5NZGpr2Z/EF6vDRPDw1CZfQjz4lBWvxgNxSkQzTP6Ley3ou3iGVxq6UNP38CDT9+4DfHpGUiNF4P3hIFzQZfyuaa+8sXxyMkvREVZCcoLUl7KVFwGg8FgMBgMBoPBYDAYT4aF3wzGPFimunHnXj9GJhQYHh5B/8Bw5DOisseMjuNBllaEFcsXoyJLBpdBif7ebjS33MeN6zdx5uxlXL8/Bqv34S/CoRDMynFo7CGIJDLwg1b0dPZBbfVFz5iDkAfa8UF09w3M/gwqYHL6Zk+rZTAYDAaDwWAwGAwGg/G9hI2oY7zRzDeiDn4Tbh4/gVZ1EOnFS3Dk3cM4tGM9Nq9fjeX5PrR1qwBpIsrrGlGSFoekdPptQwPqq0pQmJ2GJLkIXrsBBrMVWrMXqdl5yJZZcb+FG1EXAk8gQ2njBuxckgG7Tgmt1oBwZhnq85OiJZsNTyBBSk4RahfWY9mihgefpQ3VKMlJgUwsiIwCnI/nHVHHYDAYDAaDwWAwGAwG47uHjahjMOYg7DViUu8BpPEorFmIBcUZSElKRGKiGC6TEa7oeQh6oR7pwpXLV3G334Tkggqs3rAZ77z3Af7Jj49gSa4AfrsZRqsTvlD0NzwBMspX4cDuVVhcX4ua4hzI6Iqttzow5ZpnbBxPhIzCUlRXl8/+lOcgWT49VfelEg4jGAwgEOA+s9fXYzAYDAaDwWAwGAwGg/FqYIk6BmMOeAIpkuIECPnc0CvGMKE2wWDUYbj1Go5dV0TP4gjBYVCi5c4tnPjmAq53TUBvNNO5Rug0RticIfCFYojEQswsP8cXCFBQvRD58QII5NmorytHdooEIW07zrepEZhJ6H0rwvB7HDAa9NBo9dAa7fBx2bZQEG6HBVo6ptFb4PIF50zCeXWd+OVf/yX+1b/93/C//OQK9P7oFwwGg8FgMBgMBoPBYDBeGWzqK+ONZt7NJIRxEAc0GFHooVZOoLurG/fvt+B2+zicPD7CwRCE3NTXhiWoyuTDZtJBpVVjsKsT7X39aG29j7ut/dAHJMipqMPqRZVIFxgim0lYgjzkVC5DfUEc+HQtWYIUPp0SY1oLNFoPCqoqkSF/8lTWpxIOQNV1DR99chynrjThTtsE7GHuMLfWXR/u3GnGrXYlkgpKkJ/KlSP6uyhBpxadPaPQ2bzgJRRj7fJSUJEYDAaDwWAwGAwGg8FgvEJYoo7xZhMOwWk1QG8NIimrENVleUiOE4LHEyApPRtJojCCdFooHAZfLEd2QREWVuVBHKbv07JQXlWFosxUpKckQCzggy8QIuR1wx8WIzUrB2U1C7Fu1WJU5CZCGLBDobSAL09CUUUtyrOkkWQcXxSHZFkIRrsXQvghSStBSdbjybPngheG12aC1uKBUBaPpKTExz7Jqdmori5DVpLksXuFfA5odFYEBVJ6jlIsqs2FjI2/ZTAYDAaDwWAwGAwG45XCCxPRvxmMN49wCG6HGQazCzxJPNJSkyATPcxIhfxemI0GGG1uhPgiJKWmIS0uBL3eiiBfipT0dCRIuCxXGH63AwaTBXabDe6QGAlJiUhNTUFinHh6jnnABa3OBHeAj/jUTKTHC7mj0wTc0OlNcPlCkMSnIzNVBsG3SdRReXxOGwwWO3yBebq4QIq09BTES4WPjd4L+V0wGq1wegMQSJKRnZUA0bcqD4PBYDAYDAaDwWAwGIynwRJ1DAaDwWAwGAwGg8FgMBgMxmsAm8zGYDAYDAaDwWAwGAwGg8FgvAawRB2DwWAwGAwGg8FgMBgMBoPxGsASdQwGg8FgMBgMBoPBYDAYDMZrAEvUMRgMBoPBYDAYDAaDwWAwGK8BLFHHYDAYDAaDwWAwGAwGg8FgvAawRB2DwWAwGAwGg8FgMBgMBoPxGsASdQwGg8FgMBgMBoPBYDAYDMZrAEvUMRgMBoPBYDAYDAaDwWAwGK8BLFHHYDAYDAaDwWAwGAwGg8FgvAawRB2DwWAwGAwGg8FgMBgMBoPxGsASdQwGg8FgMBgMBoPBYLxswmGEQiH6hLk/GQwG45nghYno3wzGG4HHrMakwQFRShFK0sXRo48SgmFiGMagDBnZ+UiN40WP/27jd9uhVqoQTshGTkYSxC+Uyg/BbTNApTHD6QtCHJ+DsuIUiKLfMr4LArDptVAbbPCGeJCnF6IsKy76HYPBeKMJemHSqaD1yJCfk4kE6dyKPhxwYGpSAxs/DQtIh3/vrCC5ty7jJMbMPGTl5CI9Xhj9ghEO2KGY0MIuTENtUUr06KskCIdRB5XWg9SSPKTJxN8/eXoClqkBKGxiFJSXIHk+t/IlEPY5oFJr4KA+WZKTDLHw+1GLnLxNjmtgF2VgYVFy9OibQhge8onHRhXUbkkoKspHRpLk9ZT/kA9mrQZqowN+KqEkPhnZaTLYdAZY3D5IUotQkSv/Xo/yCXvMGJvSIyDPQ2WOPHr0d4dQwAetYhRO0u15uRmQCaJffE/g/A4F+R12wXdlm15v2Ig6xhuH3zqM88eO4eNTbdD7ogcfIWQZwskvv8SJK30wed+cXLbTMIWrJ4/hUvsEHIHowefEa5rEnSvn8NtPjuGL05dwtVUJb/Q7xndBGDZlPy6d+Rq//uQETly4ijtD5uh3r4BwEG6nFXqzA75AKHqQwWC8roS9Ngw0n8Mn51sxZfZHjz5O2K3GjXOn8NGloe/nKJBwAPq+y/joxBX0qpkViiXsUuHqabIRl0eiR141Pqj67uHYJxfQY3DgyZbCD6tOD4PVQ9bs+8H47S/xK3q2EUf0wCsibFfizuVv8MXNYdi9L2BvQz7YzCboqG5fBT6nGVq9Ge5HihZ2KXHl1Nf46PJo9MirJDz90nlKgVGFjuopGD3+IgRh16swOq7AlN4O/4u4OOQjWbWDuPD1cYo77qBfY0fwdRRs0peG0RZ8ffw4fvXrT/D3H36CLy7cozocwVXyJ39J//6qSUu9kzs3BI/DDOXkJCZUJri/R75fyDSMs998heP3NN/f0Y1U/16Scb3JBrdvdt37PU60nPsc31zvhv57aPbCbiWunzlJfsdw9MibDUvUMd44EgrqsKYqGbq+G7japX/cYQxb0XHpEvpMIpTWLUZRCusmz44Hit4O3GnTInPJRhw9sAc7VhdBGv2W8R0QsqDvXgtah0No2LoTR/btwIaatOiXL59wwInx3nv45moXtNZ5Mt8MBoPBYDwTetw6cRrnbk/AHT3CeDmEvXq03LyKk02TryRJoe6+jq9OXMXYK05YPhkuMTaKm5fO4quzTRgzuBF60WcNezDWchHHvj6HS01DsL3gC+zvA0GPFs1XbuP+mBGIz0bDshVYUVeGzIR4JCYnIjklBSkJounEQcgH7Xgvzp8+jZPXe6C1+743SfXfCUJeaEbbcOpSK8b1ruhBxu8iLAPBePMQJGPhxjVYEGdD961r6CObFItl8C5OdeiQWL4aG+vT2ZTN58IJnd4KDz8Hq5Y3oL6qFCU5CWATjr47wl4rVCYngukV2LKsDgvKSlCQ9gpTpeSwWQxqjEzq4PT8DnuxDAaDwfgOcGJqaASjSuv06B3GS4N7saZWTGJYaYkeebk49AoMDStg+Yd8ZxcOw++xQ69RQaE0wOH9Fn5JOAi7UU3XUUGjt73YiLrvCUGHDiNqD3h8AYoXb8T+HRuxdlElsrMLsXb7Hvzog7ewf2lmxJ8Pc0vcOCxQUb1M6cjnZ7MpvlPCJJdOsxaj4xpYXUxL/i7DEnWMNxJRcjXe2rsAHu0o7tzpgyv6Kijsn8S1y70w+bKwcdcypD/Ib4Tgd5kxOTKMnr5J6NzfZij9qyPoJSdscgTdQ+PQml0Ifee2M4wg9+pSKEfcvAvcheC16zHcP4DeASVM32pawlwE4TKpMNg3iKEJPRwv4FmFg35YNJPoH5qA3hrzNjbgxdTYAAZG1bA8OrcjSjjkh1U/hYG+YYypzM80JcBv02CwfxCjagv837I6wsEQgtyrcpkcsnmaIBzwQ6cYRlffACZ1jic6n6GAB0Y11cXAeCQBGHjhV9Mvj5A/pkxGx0stU4hbv4tre2q/cQ23xt8816Z2tumV6OHkeFQDh+/5Gi4c8EEzMYju/iFM6bl6jX7xHIRD3LQcBdXDKBSGJ7fjEwkF4DRpMDA4iJ5xLbxP8fs8DhPGBocwMmWE61s66AGvFYrhIXT3jUFj9VHvnZ9wOACbUYnBgTEoTS4EZpqG6kE/NYq+4QkY7IH5p9WFQ3CQczs0OIIJqnPqKtHDdF0d1SOnNy2kN+drcuo3Zi1X3/0kG3T/b/fojxCCz2GkeiWZ6FPA6HmKPFEfd9tNGB1+up4JkO0aH6I6HlbB/i18+pDfC83kKOk/JcyO4LwjckIBF+mXcfT1cXLpemKbPhtkV4JuGDUK0qt0TeML6iFqZ5NmAr39/ZjQep8sa2QDbJwe7ydZ0Vrhm3euWhh+nx2q8VH09k1A63x6BQc8DkyMDGF4Uh+Zlvc8TxLRT5zu66Ny6WzzlysYiMhqH8nqs/TpZyFE17Qa1Bgc7MeoknTjgw44B0Ef1BMD6BkYhsbsn79PvijUl50WNYb6qB4Vhoj+fV6J4GybQTVBdUn6xPyEUVecTae67CZ7OaAwwveceZ+wn+pinNphYCRSF69s2iNnD4zkS1D7DFGduP0veKNwEB6rhup2AIMko65XkJ0K+jxQTYxgYIx8Kef8uoSTYwc9E2ebRpRmPM1d5GyizaCDRmuZfv4gtbFGhfFJNVTm2fYl6LFDMdCJGzfv4Or1O7jfPwWL5+Gz+pxWqJUaGO3cr8LwuayYUkxhkvw0R0y/DYf90FD73rp5G1dv3kVL7yTMrsBzyyOH32mHVqnElJqeNRCAdnIAt27RdW/dR+eIDq7YaY5UaS6rHpNTSpIrJ+mCEOxmAyYUamiNMXMeqT0dJjU677fg2g3uWu0Y0cZMvyX5tpu0UCg0sHJtzQMEgjCsVhPMdrJzQT74fG5FPe7/BXQ5H8waDbRRnyNI+kxDZR6fUkNPduGZoDLZjJwuGcGkwf2g/aevPe17G2yeefokN7XZAsXoCMVjpHOprp+E10LxAPlZo2Qnn2ZWZ8ubheo0evyZofjGFo1vBslOPkN8E/I5ya6OoW9ECfsriC2DfhumuNiV7L/tKeXxOKxkm/qpX6qe3C/ngIs/uT7dTf7ZlME+r40O+qeft5ds+ZTJ/Zz+AflJHmp78nu4WFz/hPoKkY6ZGutH9yDdh2R1xt/7vsE2k2C8sYRDTpz52z/DLWcZdh16H2tLhRi/+SV+daEb8lV/gv95Z07kvIBDi6bLZ3CueexhkMPjI6tyA959eyNK4qcPBSau4f/6zU1Il/0R/nRb5vTBKEHFbfzlJ9cRXvgD/M+78qNHH2UUf/9vfgVV+V78iz9chqTo0UdxGadw7rNfQpm5GYd3r0aujDvqxcCF3+LDy+NwPlBGfKRVrMYHR9ehJFkaWbg27Lei89YZfHlfgL0by6DuuYUbvQayyjl490//BOXOPnz9xXEEFuzBwU31SI0uimweOoef/LIdqYvW4/CeFch5LAMUgGawGcc+PYdBezjioPB400vlZlROP08i/e0zj+Ls16dxq1+PmeVV+CI5KpZsxaGdi5EdeRaqL8Md/Nmfn4d0xVEcLBjDF+daobbFYeXBo9i/rARx8wzRc6ub8MtfXMSA9WFUIpCkYOnm3di9qhJJkujBOQiMnMf/55dNyF3/A1RNfYbT/dOTbnj8JKw58g42yTvwlx/ehT1abqE8H1v37sKmRfmQRFcFdqru4Oc/v4DRGGeFJ0rG6qM/xluNM4uiejF+/zq++noYNYeXwtNyG9cGTFGnjgd5Rjl27duNVVWpmF4DdgA/+9efwUZt8ic/WoyEyLEZhvDf//VH0JTvwf/wj2qhvnsZXxxrgT6i1nnUBvS/AjHK1n+Af76zmATAg6Gmc/jyYgc0D8rIgzQ1H5t3HsDmhoxZox+V94/j7461IXYZq8T8pfjggx2oShWSQ9WEX/zFOUzS/WLbvHDrP6M+kAaTohPHfnUVcat3YO/mBREZmCYMm64Px/7uDNC4FQd3N4BbXrrrxF/g57dFOPJPj8J763Nc7DIgkNWIHx/eioWF008+2fwlfnG8E+YY+5yYvwq//+PNKEmYFlirchDffPElPJVbsCjRgEtX70Nl8yNjxQ/wbw9XRM55DAr8jKPX8auPrmPSFdN+4lRs/OCPcaA6KpzkVhhHWnH85FX0qp0PnAyhJBEN6/fh4OZKJDzpFVjYjb7rJ/HF5T4YHwQFPMRllGLHnj1YW5MWbfe5cKD1q89xvEWIt/71MnT89DO0GmZKQP29fA3eO7QWZenT/d1l1uDcxz+HKn01lhfz0HztDkaMHogXvos/+0ENnRGiuurD2W/O4d6Y9UHiiy+MQ/2mI3hrSznkUdmOEDLhys9/jhPDD+c1iZJLsPdQHVSnr6ErYxv+jx/W0VE/VH13cezzdhTsWosMUx/O3ByEI8DDogP/Aj9amYKwV4c758/hTNMI7DM3Jr2akr8Q+48ewKLsaUkMme/jv/7VaZgq9uJI/HX8+pZxus55EtRseQvvLjDip//tDNRRX50nSsOKbTuxe20lEiMVqceJ//I36BYuxOKlAdw+3fOgD6cu3I9/9V4+Tv0/P8NNTbQeeWJUbTyM9zdWI0kaffiQF8r+u/jq5A0Mmx4OFRFKc7Dn9/8Am4qn5S5kH8JnvzmDTvFK/LsdYfzq43MY0PNRtHA1Dh/ejKJ51q32Wcdw6ZszuNatxYxI8Pgi5FfT7w6RXEc7TmDkHP7dL5pQuOmPsMpzEp/eUMEzU3VxOdj/gx9iU9nDm4R9ZrRdPY+TN/soYJg+USBOwOI1W1DgvYtLmgK8u38ranLmVozc83zy0Wl0iVfh367Vk/5rhnGmnvly1G7ch6MbqpE8U09BF0baruCzky3QxgS8fGkm9vz4j7ClRBxZH+jEyVNo8dXhX7y1BtnJsfcOYLz1Co6d7kDRnvextzGXdGsIU51n8dFXd6GJmQcpSa3H7/+zQ6iOf0JnowB04tZH+OldPtYurYa9/wbJOQWo0a/jc+rwzg8PoS5tdo8zdJ3GTz+5C0NM/CfPrMdb725DXV7ig/4ZdJtw/8YZnLoxOGsEUUrRevzBH1IdRx8tONWEn3x6Ff7q9/BW4mX87emHdponScP6fYexk+yI7ClDz01Dp/C31AaamHuJ5HnY+d572FIRtQzhAHSj9/H111fQo3FF7cp0n27c9j7e3lAArrlCtgF89KtT6I1fjz/7/aXRs0LQDTSTbToPU+YGfHBwFQqSxBQoBEmXd+CrL86iS/swAcATpmHrj/8x9lTEtmEI2p6L+PVXzZiacZgEUpQtWo7aBCeab2uw6o+OYm3BjH2LxY7mzz/BV21TcEV0wrQNE6SV48De3Vi/YHoJh5ClGx/+96/QHtNAPGkG1uzej31LCyARxCqtx+GSAYquC/jt8RaSqYdyKklvwAd/dBj1D/Y6CEDfcxsfn7qFMdKbM3UpisvE8i27sWcN+SLRW7V/9n/go+50vPcv/xhLUqePhUMW3D93EsdvkY6bSZqRfsmtXIZDe9ejInP6TbDy6k/xl1ds2PZ7/y9sL40ceoD65t/jv5yewubf/1+xl0xXyDiAY1+fwYB0Df5k/2KkyblaJD2uGcCpL75Ci8JL/4rCF6J0zfv4x3vLIIENndcv4qtTHTDF+AdCWSJW7v9HOLp42uO0jt/Dp19cRp/+oeyI43OxfucebF2aH5GdubAO3cSvv76GYZKPyNUjvkAcKhdtpH6zAmm2fnz4i1PoT9yEf71Cib/6qAWmGZXLj0f9toN4a2054sUzN6C6H20nOb6EbnWMHItTsI78qUMNc29I4XPqcO3zX+JUn+NhkoHKwl01a9FR/PO365DAC8Aw3oGT31xF95Rt+sVm5DwBkrKqsfPALiwrjSN/6iT+/lwnTM4ZjTH9XJKMahw4uAPLy1MR0nXis9+eQEvEANF1wnQn+q84pQL7ju7D2vIk6j8BaIfv4lOyB+OiShw8vBOrK9Px2D4gYR8m7p3HJ+fvQ+NKQnmeD0OTnK2N1Ch9hCho2IC39q5EQaKY/HknOi99jA+vqJGSnYn4sAtqvQVcLi9zyXv4H49WQ+a3o6/5Er6+0gEtp3S4Z+Xqg/zCksZteHvPEqRDjQvHTuFajzJmbUFOPnjIqFiMfeuK0XP5ClrGTcjd9Cf4o2V2HPv5b6j/Tft9kbMj7Q3U7f8f8OM1c/sw4bAWX/6Xv8NYfC2qKpy4e3nwgR5MaziK//FAEk799Je4q5sRDAlqd7yHH6wthkw0ff2AS4eWq6dx6ibFYw+bBcm5jXibdPmCaN/jCLkm8fUvPsHVSWf0CA8JubXYuzQF9+61wlV6FP9qXxlXHVQ4Tm+24euTl9ETI28C0s/rjv4IBx8qhXnxmkZw9iQX3xgibcDBF8Wjchn5uNsXPYhvyMLgmz//a9znLcL23Qlo+uI6xh0zFS9A/op38S8OV1KfnRufpwM/+/fHMEKlnG7O6brJW/ujyPN4HWac/+gnGIlfgsY88vtutkAVXXSca/eq5Yfw/gHyx6d/FiHsUeHMr3+D8zG+Hdcv67YewNG1FUicCXLmxIu+87/BR1cmYuJPUF0vwQc/2IbqtOkH5zaUGWi+jC/PtkMfs76mKCEPe3/4Y2womvGjBvDbD0+jR7YW//kPlkWOcfjtKty8cAYXWyfhfOCHCJFfuxXvv70KOTOb+ITsaDvzOX5zfYK0yAx8JBcvxdEDG7Hge7YZiuA/ENG/GYw3Ch5PhLQMEfqbBmAMCZEmM+LGjQ5owrX4wXuLkCLkI+DQ4Pa54/imzYK8hWtwlALI3atrkS4yYai3HwOTLmRVlCBNwkfIOoGbnRMQ5i3B6phgiSNsU+BO1zjC5OyvqZgvBSeErvcWxq2JqFldheQ59WIYLrsGnc3jkBYtQF11JqRBN1qP/Qw/v21CevkSHHzrIPZuqEOOxAfVUDtu9nqwoL4MiSJSTRRwaieH0dXZh47+UejcAmQUVaKxphKVFfkQuwwYoOcKZVSiuiQLMr4f1pEb+O+/vQtJ6TLs27cBhbMi94eEueF7ghB8LjcF5ElYuHgBqkoLUVxahrK8BAR0g/jmxGk0TYRRuXIrfvDuAWxuLIHUr0Zv5wCmnKRwi3KQQAY57JrCdQrsteR8doyYIUrORWVVFRZWl1BgJ8NcfniQlPtnv72CIWcyNhw8irf3bcEqqh+/bQqdbeMQ5uSjMD1hzt9yhMzDuEwBgn6kD460BuzdsxmNFFnbDFPoutdEQbQRuQ0bcXjvOtRRBGaeGMSIQ4bCgvyIsxz2DeJX//UENHFF2LLvEI7u3oBFZclwaxVou9sDfs0ylEUsYxAW1QR6B3rQ2j4Os7QUe3fvwqbllchNCEI7PgJ6ZOTkFyI9nnN3DGi50ANvZiWWNuQ8YrxNaL3QAUdqJVYuyYM4GAafH4LL6YRbmo1Vi6tRUlxAbVCK4nQJtH1NOHnpHj1fI/Yf2ot3KViozpLAouhDj8JOTmoRcpK53fjIaWn5GH/x+SASCuqx59BBHNiyFEWJAShGunCj04WFKyoRT0F0iAKQEBlqeygBC2qrUV1eiLKychSnieCyadHXPgZRYTmqSjJmld3r1KO3dYgetAzVFdngTLmu/w7uK4wY6uyEwilGVmEJqkg2q4uzkEAxja7lU/zXY8NILKP2OXgIezcvQiHVmXK0E9cHw1hK8sTtcOW1GzHQ04qOvlH0TZghjM9EOZWtqrIc5fPsfutz9uCjn52FJaUc27n227UWdUXxsE+NoeVOD+Jq6fkTePDphnH+/EV0WFKwZtde/OjITiyvzkLYMo6uQTV4FDiX5sbP4wiEoOy4hhNXu+DPXYrDR/bh6M41KE8XwDjRi16lF5m5hchIFEXc8sfxQtXfgz7lKO7eGIKwaC2OvrUbu9fVIk3ghGKwE/dUIjRW5yGO+rvf48BI1x20DSrQN6ZFUJqGkiqqz+oKVOfIYJ3qx8kvj6PTmoLFG3fg/SPbsbI2G3yDAl29vVB7UlBRmhHZ/TkcsODqh3+HEyMBFC2kYOGtndi+qhIJbnKeLjdj2OwGP7MW2xqyqJyhyGikvp4etPcMYljjhjw1H3UNlagi2chN9KK3+TrO3RhDRj09w6FDJF+NyI7zYoIb5WnyI7u0BCnkHIY9ajQ1DUI/RToCJdi5dztWU7/2WtQY7LiHS80TkJaswaEDW7C8KhVu3QgG1EEU5OcjM7KzngsDt5rQY9DD6KCgdNt27FhSRJGlAePD7Th/8T6cSRSccWs5LsxFkHT+YI8eyTVlKEiSRpIU+vE2HD92CabESmzdsx9v7VqF+nw59BND6Ooeg6xkIfK5rKDPhO7OISjGunGNnEmfJAVFZTWop2sV5aVCOkf0EvIacO/6FVzpsKNyzXa8fWQv9q5aQP1Bj8HuYeg9YhSV54GLx7kk1yXSUbqh+xjzpGHZ5q3YsaaO+iUfJu0k2tp0KFpdh3QhtVfQjp67l3Hycj+EBQ3YvX8P3t21HMXUhztuX0fzsAUSapOFVaXISJg7QxSeeZ7hDlzrt6Nk+Xbs27YCDUVpCFFA3N9JoUJeKcozSd553KjGVnzxaRPCpDP2HjiIwztWoDJbDN3IIHr6VFSndchLFcKhUWOE6ji1rhJ5idNJ5en7GdDT3oZuQybWrqlBTpIY9qGz+Olv2iHMX4hdBw7g4JYV1F9C0Ez04WqTGeXLq5A6386X4RCsCtINbaMYn1BDlE96j7vGhkZkiE0YGyJZGTUjtbwSWXFcjw3C2H0af/VZO3jZldi1/wgO7FyJijQhDFN9FIC5UVVVhGSZkPSeg3yHMzh+TY3M2hU4eGQ/9q6pp2DMipH+XvQr+CirLUACGZww2aC73eOY6L2HNo0EdZu2YfeGxajKksFpVKGrS4PUmnLkJ8y/E2TA2IS//m834Emvxq6jR3Bk2xosyJfApBqloHMKucsakEWBisswgSunvkG3Mwfrdu3B+wepXyzIQpD6Re/gOHxJZOuzSZl6jejsGIJeXISti3Ip4AvCNNGFM2evYCpuEdmvVShNl0XK4+KSQx9+hUlREdbt2Ie3967FktIU2NTjaL3dBkHpYpSkCOjcECwDN/Cbk83QhbKwcc8hHNm3FYuKZNAOtOJ25yhsfvJvVixAYZJsDh1JVwgGIUriwzZhRCilFEuXVqG0uAjlRblIjRfCo7qNv/yrU1Dw0rFsyx58sG8blpWnIGBTof1uCwzyatQWPCkQC0Pfcxr//dNOCPJrSZ8cwJGtK6j8frJtPbh7T4fipQtA5gtORRe+Pn8DY6Eikr19eO/gdjSWxcGrHUfHsB7i5DwUZU3fS9NzA526ONStXBJ5eRoOWHH//Cl8c3cS8eWrcOToPpLdBuSIPBju6cSQVYR88h2SpXzYx+7hzpgXpY1rQY8yC8dEG24OWVG6aCMq0+i6biP6BoZhFBZiaVVOZOYCN7ro+rEPcc+ahRVbdlM5t2J1bR741kl0d7TBICNfsVBOZQpDKAjDYXfAQ3aKS14XFxWivLQYWaRDHIpWfPb1dUwE0rBh+0G8c3QbtV0SqbUxtPZpIEnJQUEG19ejhYuF+lpQSPLiNsBoF6JyyRLUlhWghK5dmJMEEem5jvYhstUduDnoQvnK7dhL9V5fkEIBOPkJHSPgFVdSX+NkjuRI2Y9Tx09T3ReSzO2iZ1qHxcUpcGpG0dvTj0B6LYozxI+1cyjoId0wAqU1gFCAG10thDw+HvFxMqTkVaOxkq6h7MWZUxfRrnBCJItDQnwC4mWSiA5zmHVQ6GxIzMpFvE+PMa0NPq8X/iAPApEUCQnxSEjJRlUF1ZnYiLO//QI3FV6IpPFISUlCEtkMblSW167DgCKAyoYKpIjCcJqU6OkegUWQhmrq6wVpcXPUYxBW1Qi6uJHPHieMthDiqGyJcfGQUTtzszVMyklo/OlYUE52mfw07WgXOsbMcDrskSmQAokEMvokk2wvKpVivP0yvjrTCr1fBLlcjiTynyUiEcJ+N/RaFbROKfJzE2FXq6C3ueDxBanOeJDI6b5yqrOsPJTnJ0AzMgaVxYWE4mVYWhDG5PAozF7uUYNcNgvxCXLIZVLkVi7BglzpPP3Pib5bd9Cj1cMayMDa7dvIX8iH36glW9yGK9fIL6J23bV3G9bUkI23ajDQbUBGYxXy4qjM3Iug9is4cVmJ7MZ15D8dwIF19ciMs5POHcCoOoDi2lIkkjkL+RQ4STrrptKP4kWb8dbhHdi5ogJiG+nHW530LF4kFDZiDfkMnLyZp3pJ3s5gIszpOK4PrSPZTyZ5I71JPkwwfQFKSN7m1s9heHQDOEm/vzsZRvXKbfjg3f3Y1FAMCRffdPRD6RKhgOKb+EjCMeqT6MmHGXaigHygPZtXobEiBUGzHiN9LdDJF6Gh4KFtnE2IfDuqdpEPFq8E5dWk8yqLye8uozLGRUarjnTexP0BNcZ1PlQsXYM9m9bQ9VPhMSgxMqGAS1yIBYUJkeuHvBqc/dWHuKwSoH7tLrxNdbWpsRASzv7fa4cxoYRsTcLc/Z6w3f8c/+XkGFLKV+DIOwexb+NiFCb6oRrtQcuEFCsX5UNEsqoebcZXx1shLFmE/eS/H9q2nHwHATRDg+gnfZpatYB8QLKXPiO6ONskKiTblBe5R9Clx70r53Cx3Ub6eR3eInu7a0UNkvlG9PeSb2iRoqSC9CHpN8XNr/Dh1UkklK3FO+/vw4GNi8i2Bug+HegxxWNBaTbk8874ev1giTrGGwwPIgqkBM5BtHYOR6Zeqe0CLNu9FyvzuUA7AP1kG85dHkPesm04smslilJliEtIRlFFPYqlWtztmEBYloXywhRyiiZwq3Ny3kRdU/cE8MREnQSuiRvoMAhQUrsYuXGkQANeuNweeP3kboiEpCi56R6juN+mR1pFLSnaZHgnbuGTi1zQvhP/9A83oiyFDKY8GQUUfORJTOjvbsMYvx5LS+PAiybqeobMSCpfhvc+OIw9axpQU5GPRHJMuS3kZxJ1VeSg2clx+/WvL8KWtpQU3g6UzR7OFQNn2JNRWEbGVaXEhDUTB97dgTX1NSjPS4Qw6MRQ1z3c6LCgYcdBHFq/AOnxYsiT0lBaWobE4BSauyk4JuconxxBnnsKN24Nwy9Nx4qdR/CDQxuxfGHpvEk6DrdBA6UjgNLVFDAtykYCOV6JaeRYJpEhmOyCmleGuuI0SOYJ6kLmEVxun4IoZSl+/x/vRm12KnILciClgHR8Sg9pzX786fsrkJuWguzsdIgCBvT2WpFbUUjHqL21I+hzylC/eju2NpCTR45hamYBKlNsaO2lgFtUjbWRUQ9BWNQT5GwrKMhdhT/4wXY0lGQgLT2TnOZ8JMCAzl4LMkvyI3Uh4BJ1F5+QqLvYGU3UFSItOROlBXHQjE9AH9eAP3prI+prKlBMARe30YdRZ4DVm431O1dTsJ0OqViK9OwcpCd40XtfjbicPBTnJ0PgHsLHH16HM7UR7//eQTTkJZBMJSC3pIICDTssVhNEOY0oz6C+QGUPWlUYdWZi764tWLeUHOg07tVWGO5Iom583kRd3/3hORJ1HiTnNeCtH7xHTlgDFpZwSTohwq4BKtMNuLJX4cc/2o5KckjiyIHNKS5DHk9Hhr0T5rTlqM8RRhJ1g72d0PozsGL7Afzeoc0kP5XzJuk4ApphDPuSsWTNZqyvzYI8Lg5p2UWoStbjVscoPIkLsbxUDjMFp+3tPUis24o9q2qQFk9ylpqF4tIciKxuSNIzkJWdRE70XLigUxvhDOVjy97VWJibAqlEhszcbCSJyYlt1yG5uAAFWQ9H7czGBxWXBFDZkFCzD//sRytRmBxPgUgKissLEecxYLCrH578eizIlEYTdfcw6U5B47pd+OGR7VjTWI3qHDk5si4Mt5zH9VE51pPO27WqDCkyGZJSc1BVVwOhtgUdE+SYZ1cgP0UEW/9lfH5bAXnVfvzTD5ajgO4bn5iOssoCyFwGjKosCJEzO5Oos3OJut4RuOSl2HHkbbxHgX9DVTlyk8nh9jqh1+vgy1iIXeuWoCQ7HhIZyVd+MZIDg2iZ9CM7rxSFJEeRRN3dIbgkxTj6h+9jRUkasnLzkRY2Y0yhRiBtLf7FP9mKysxkqvcMxPPJmb+vRFwZBYhZSRDyOKe4GWpRLjbuPYqdjfRbCj4qU12436eEh5+Ht/74h1hF183IzkeGwI7xsW7YExrQSI5s2G9Hx8UT6ApWYO/+3VhelgqpNA7JJBsNFUJ03+2FMZCE6qpsiP0m9HRSMGoKoWDFPvzJj/diXWMlinPnTtJx+F126PRGKu8KbF+1EHkpUkjik1BYWAKBvgW9Zgk5+JXIiqdwwjQc0VGC+CIc+OEPsbU2Bxkkb0UVFchwU1A+NoxA5lrUZ/NJHyrQfPM2tEmL8fbBzWgk3SelOs7KLyFnPoyxwQn4EvKeKVGntgmw6NAf4cebypCVlorsgmIUp4QwpRiEwleIFVXc6JAwXJoJaIR5WLt2LRaXpUEmkyMzrwwL4idwvVcPUXoN6vJTKGjXYXi8D0ZZFdVxEgRRn9lrUKGttR3O7Fqsri1CosCAr39xHNqURXibHO66XApYqV9mFpB9SjCi5X47DJI6LCkh2zZ9idlEE3V3hj0oaVyLw3s2oCpbDml8IgorGlEonMC9Hi1ANryyhHwBzzi+OXYLSuEC/OEfH0RtTjziqK0zSS7zZW6M9nZALavB4qJ4OIzc6IlmyGo34NDu1RHfQEo6Mq+sHkW8ITT1qiBIrUZ5Nmk9G2ffxik4TcGu3/9jHGjMQ2ZaOvJLyKaJHCRvvbAl1NN1KXCaLxhSjGAqHI9lWw5gXWVKRD9l5JYiX6hF59AAXCmrwcU0VsM4Wu+MIa1xDbauWYAMCrYjfXpBBtVvAPLUDOTlJEAwK1GXA5tyAJfOnUdfoAT79mzCwogPxBHAwLnf4qoxG1sPHsYmuk6cLA5JGfnUn2UYbOnAhCUOdQ0FFJTq0Hy7GT3qOOx4/x1srctGYpyE+ltBZK1aGycfFhmq503UcSOaClBVKcPAhU74C9fgB+9tRGNJHlLjyUEJ2XHn1Bm06oTY8oN/igOLyc7Hy5CcmY8F5alUzWPky+lQvLwO6fMsLhwO6nDmo2+gT6nFwbcOYFlJEuLiOTtCvkqcBUqbHdK0apSk8WAxGWCyi7B40waS8VzIJWIkp+ciJ1OEqVbSsyk5KC7JhIzabHaiLgzbRBcu3eqEr2gT/tGR1SjNSKD+l4S8wjxkxAWgNYVJ32UhLUECx3gLmsa9KJsrUUc+6K0h2xMTdYGAFuMjYZQuXo2NqyqQRr4HZ5NqquNJ91E/8yejbkkJMuhYaYEEiqFxGJOW4p+/s5F8vxJkJZJ99RvReusO2pXx2PPufqypJhsoFiE5IxdFpEetY+0YJTtSVpiD+DlG1wjjyBcgWyzVt6NdIcLmD36A7YtKUZQzbQvD0USdzinC0iN/jB+up/uSLskhPVec6MPE5BCmgiVYXU0PGXBjqOk0bmgzsW3vLmxYSM8pmZa52gVpUN7vgoKuU1xdhIRH9KpAFIeimgZUZwugnRgnD6kAh374AT7YtwkrqtOpj1vQ03wNNzq11D+Lse3gUfyA9OOmdctRkR6GenIKGqMD4bg0LFy2CpvXLIRUTQG+LoScirX4oz9+D7tWVJEdI/tqGsGdDg2C4jhUr96H98lPXbu4FkVyNyZVOthMdsgqF6E6VfBcibruETUcPkBOPta7P3ofb+1ag1WNZZB7TVDqTNBq7EitqkVhfHg6UTduoweXks+4ABs2bsC2dSvRSD6V2DWJa2cvY8AmRMGClXjrncM4sHU9Ni6vhMytIr/WAIvTh6TcGqzbsArLK0QY6BiHPcTHsgP/BP/knU1YuZD8AoEVfd3DUFncSChZhrV1BVi4qBF5cR6MjyoRylqCH/34bRzZsZ58mvmSdBxcoo5LplO97zmIzQtzycei/p5qw+1OJfgJZTj6B+9iGdkq7oVlelgfsRPulGVYlC9FyO+DQTWFUPYCbFpL7ZVFulyeiALSuSnWe2hVepBe2IAi6kP6rts43zaFlCVH8E8PL0J2EvlJSekUb5CfRv7KhNoCaX5DJFEX9jkx2HQGt/VZ2E7ytr42e1reyH9fUJ2KKZI3pUuCourCx+QtAsU3g533KP6j+GbnIYpvaqbjm2Tyj8rKkBAg/d+jR0p2HvLS5dTuLgzevouJYDIWbTiAt3fUIT8zjXyeEooFeLh/bwQmdzwalhVF/OJH4fMTUFieB5lPgwFtHNZv3Yptq+oiSTqO6UTdHUz6crB2xx7sWUd+RUYK+U3FqK2Io77VB5cwieLMQvKXgtC0nMOxVjNq9v4hfrCuCElxUsQlZaC8NBVuDdmTHjsWkMwkzhM7Ddw5jU6NBBuOvI81JTOxArWfgJuiLEBGXSGSQgHYtQoYpIXYsHY16otTIv5BVn4FyqSjuNVvQlxmFWpyZY8n6sJcLN6Hi1cHkLNyO/ZvakR2omTaTyqpRpq3Hy3D5BNnlZPP6ENf0z30quTY8Y8OYxn5lrI4sstFueTfiuH3ipFfmokE8VOGr79GfH9SigzGK0BIiqJqyUqUJ/hhtriQXLYEqysoSCZ9xK3jZRwfpGAiG+VlpZi1Hj+Pj4yqxaiJs0Gt5Nasix7/luRRwB4M2mCycGO6STmN9+PapUs4db4Zk9xUxXAYPrcVDnJ94uRxEMGPiYFxWHwyLNm6GKmxepQnQlFdLQoS4zDe0g5z9DAHjwKTJcsWophzFqLHZsHt6DTSii8/v4oxVxiyNHIu55m29SwEnHZophTwppdjQVHmrKmrAhkFTeXVKAhrMKYxwvFgmiUfSTl1WLu0EPJn0FTyvFrs3LQaheEx3Lnb+uDTM6aBKyiEw8mtSRUzLnsekqopiJhx8nlyJCfKIBGLKdApeZB84Ym4+k+AxO2B0+8n94qeI3c5OSorkBGYRFPM/dtVbvBDPNgs1ukfR+FBjhoK4jPjH6aveOQcpGRkIzXggsPrJQl4mcjIgV2EzetK4FcNo7k5WsZ7XRhUuCAIeeHm3hzTma7xIYy6QshbtBrlD+erEkKULd+FH//eO1iZHT300hGhetUm1HHDQ2JwjQ9jyBOCUBLE4L0mXL8182nBuG26vwwNTmJmygInPxllC7G8ugBx0WkTT0JSsAoHNjUg3jU+q/06tcFIgtFuI2eYkFK/S0qUQj3UQ+e1oLmtGz3DE7D4M7D24B5sbCyglp0POcrrl5LzXwDnWD+aHrRBD0bVJCdBkief7xnaPQnLN9bNmroQ2SSnthgZiQH09euiBzm46aTlWLKwnByVhx3J73NgdFCF+PwClJVmz0qiCsTxqF7SAJHFDOWUCh6SiskxNdy+RKzayk0dip7IIUzFokYKDmPk+CESlNQvIqcsDdyA3hl40hRUL1qDDVUJUI70PKjrpvudmLBT0Oj1w+fxRM+eRpJTi8oH01oooE+Oh0QiRPaCKmTOXJt0XpyUHHKxGw439csH3Z0PeVw2SoofCrM4NRVJfAFEOQvBxYbTUK+k9hVLRLDZuZ3UyNH069A/5KS28WFqpD1G7ppwp98DqdgHm0E1ywYIEiuxb2ctkudJzsUiTszE4pXrsDgnhOHetgd1ca+9Bya/BD6SBy/1y1iSy1dhUW6soylCIelVkUgAo4nTMxTw2fRQqIWorCpGTmSUShS+CKk51VhYHF2z4Rngp9SSwzz7BVNSRjpSExJgs1oR4ubf8IVIr1hFQWwJgoahB8/BfbotIgiDQbic09Nq0vPzkJUSD0XPCGwhru8SYT/0Rg2mDAKUFWYiUS5EUNeDLiN9JQxC0Rnb55vQZSK7RD/TDo+SPXwyQnkaykrKkPvInPSculWolLhg1mki0/s9SgXG7G46n4/Rltj73cOg1kH9MowxLjDlXkJo+zDm5MPnMqK3NfbcJgy5pRCQbdCr1YhtOXnxSqwris0gCZGVlQp5vJT8j5ipenOQXLUeR7cshszysL9wn1GDB8EwDxYb1+58SEj+k6ifqIb60HSb5Oh+D/qGJ2Fw52H7W/uweVHuIy97wnDphnDp9EncGHIjMTEZqbOSaDp09FgjNsw41TnrOW/22hEXR783TEBJjeA3G6HUmyApqyP9HZs85SEpO58CPwoMn6FPzEfIOoaeKTfEuauwqnx2Jk6YVIplNRkQ+YbRMjj/TgYhXTd6TWLklC9CVcbswuQs2YM/+r13sbaUsz1CZBbXYsOGRYi3T6K1ZabOOyIvOgPU772ko/xz3soLnVYPoy0BixuLkSh92Fd54kRULd+G3zu6PpJomC2RL4ZEWoSNe1ejiNsg7d5D2WjqMpEuCyPgsGNm8t98BCwmqHV6eMQ8aAa6cfP2TDvfRfugAi6qDy09k9M1Wy8/L4LUemxpnOVUICUrEylyOazm6Q0u/H4HxoaVJDXkh1KAfjNG5m63Gcl/9cNu1UBvfkKHmZMwvC4LpiZVVB8ylNU3YlFZOsScw88TIrdyMVYvyoc05IBKpYXpKTuZiuLzsXxFLcpyMsC3DuHGlWs4f/UuOict8Aa5lvXAHrOMxnPBi0Pdpo2oy+ESXzxIErNQv6gmkuDjeVToGbfElI0HWXoJ1m/ahPVLqlCUn4WsJLJhulGMaHyQJOdh0aJ6lKbHRWIbbpr40nWbsDBDBK/NTM+qI7/7eevyRRGQjslCQcFD+yNJT0cyjwdpTg0qHiSqeUhIkJNNE8JqnZZegUSOyiUbsI5iNN1oxwM55z5anxQBzsa4OUNM8jNhgCuQhfWri2a9NOVJM7GgshDpVD8zcL7Q2IgqIm+aid5Z8nanwwi+1Edl0MAwj7wFnDZoyHZ4MypQW5jxSHyTgMKyKuSH1OTjxcY3nK+RjTrSD1yifwZBVgmq4nkIUF+wR4+9GOT35RagvCQfkcHiUYTxpSjJDMDjdWC6K9swMGyEzx8HobPvwXNznxttCjgDQYStExgyzx87peWQ/xhyovPObdxpbkdbzwCGJx3IbNiAd99diwLu7ZNAguyq1di+tIBs5+CstuuzCCGI+Afz7F5LvpdVOwKlVwCPWYmOGP//xt37mPBIECL/3Kg3UAtKkJqZBJFQj5aLd8m3bkd79yBGlR7kLFiNoweWI3dOX/X15WXYCAbje4wAyWm5KC/PhFicgcb6MqTKp9U6F3zYrTZI4uOQnDw9RPghPIhFScjMFMDtcdEnevhbkpSZSQorREEWOe0+M4b7OtE5NIbu1ru4OWCjQoXgNRrhFEsgi+OCLzcZEC/CwUwUFzzenXnydApORAibjIhNE/ETkpBBRnDuZQeC0I114fz5dgSLFmF9hRzm4Xtom3iaqzc/Ab8fTlLCCSlJkMsefUckQLw8keo4CLvD+2ChZk63S7NykPmMLz5c2iFcvXgOX5y4iCtNd3Ej+rnVNgTNc2xBlpgwVwArQ9Ks7EQUMi6BaPLPq+vC6W9O46tTF3GJnNsH978/BtucO0RwUyXEEM56Pj6EAhFeycuekAfK4Q6c/eYMTpy/gWu3Z8p4Dy09Y7PWoXNQ8M39MyMzffpALAIhpBIJGcLov1868cgveHzUKTddh1tSle+zYnJKNeujsIlQXrMA1ZkiCqJnECE1NZECyXmGVjyCS92GU9R+x89cxuUHdcPJzwTcMRG0PKMAy1avRXWSHS3XL+PLr77B58dP4djJczhzow0TMWuYPUbIjYmB+zhz8gyOX7iJ6zFtcL9fQXISPe+ppFCAH/0zBnFSSmQUBFdXDxEiKSmR5Hq2cxIK2km/CZEoT0byrIwfweNDmpSFdL4XLpeLnB8POVFB0olpyJ7jvgLqM/FCburboyQgIz2e5GX2NyGvDcOdt3D86zM4c5nq4c50PdxsakXHsCEie4/CT4zHXOMhkxLmOkr9MhCKWYiaR/0qDo+pHkKQlDTndf0BUkT0+1DYRsEWp8Nc0KsekTu1CfLiBagoSQPFww8Qkt4qnJ1nnhe/w4Suu1dw7MQ5nL92G9ejcnfzbht6FHOnoJKyuGlPsxFLxKQzZ+o5SOV3wB2UI4kCYMkjyRExN1KGbNqzIkxLe5gMnUEogkggeOhEcht6jN7DSZLtr89dw9XYPtSunJWw4ifmozwnGXxdL7r10z2WW2/JoBqDRUx1l5UWmcIettum7ZbPCUVMvUc+2hAK6hdiQZ78icE0h1AqgZxk9NEckUCYgdTkAAUpHvqQDiBZD5JOFwbss+9FHwUFadyI4pqcuIhcBex2sr4heByWx8qmsUhQVluBwjTprLIlUrs9GiKIqC0E/Ke74raxFpw4ydmXK7garddI3Xar4HmwwDwFf6l5WL5+NYoT7Gi7eeGBfvqK9NO56xTUWGcHXEHzIE7RdXu8RVi+OA9O5Rj6R3UP1j4EtYCVIkZueQPTI/I/OaWHqIDaoCoTUjqfmyLIfZJTkqluH6ltoTQii09bh+9JhKnOrdQ+iYX5MeudzsBHJsmNUBiG0TR/6jbE+UICPhLSUslCPAKfbBvJiljItUcQJuUgrp49jWNnruFajE1v6uiH5onZYS+cbhe8vCSkxokfGTnFA59sqERKtn9mKOm3xOdU4MbZsxHf48INCl4fyEcXpp7RN515ISAIuqHVaGa3s84BcWoBaoszIHuwhtyLIUhPR+ajlxBN65KZw9z60Q47H9zmNSZ9TDnoo1BrwcuoQXVpLuSCp/X8x/F5PSTPnkjCNCM1hZ7noZzyhRKkZ2UjiWTIZXfC6XnyJigBrx1T42Po6+9Dc1MTrly/HfncahuF+Rk2lXkSPGEqSvMSY4J0PuKS05AijyM9FoDV6Iixk3wkU71mpyXg4TvJMLx2M5wB0gmJJIcpCYiIdRRhfDrycuPAbWrlcDrg+c4SdZyPG0f9LPrPGISJiXOOIPMHpp+UmwUw2n6dfK2zOH2J/IYHcn43MqLqIR6KN6jtxCRrc+yolpQUDwnp3RmCIUdU3jwwPiZvOvAyOXnLmVfeZuKbRC6+obhsNkLEx0/HNzaKb/wP3sKST0JtTKryEcSQz1E3z4+AYq04xMfN1sM8Hum3Wc6Di+KuAMLc9Gz17GefnNLCK89BTV0hEri1F+cht2Erdq2rhUjP+dBn8DnZnC/It/vqmwu43meIvIDi1gXVDN/F13T8m/PXY+IP0qdds19oPQq3QYzf6SQ/NEixiWl2GZUaWLzxqKgpRVaSmKRejJJFq7BlTQ2guEPlOYXPj1F5TpDPfeoymgbJtj1pE6TXkJdjJRiM7zE8Iec0SUl5JZAjKXkwDYdTS3xyoLnkQEyc/gDuUOgZRmhxcE7Qs5zLp4AonhxRm8UCl8kAlcaDoiUrsaRYhOE2bvRBCFa9AXyZGAnxXHhJheW8QPrvfLsjRUaVPDqfhgLxh0Hdo/ihnVTAl1GLnVs3Ydfu5UgNaNFxtw/6Fxzixd2LT5/pvWseL2iYCj+zr01sqXjk0M5XylmELOhtbcHtvjCW796Ddw/tx9vRz1vbl6H0CVMeXw423L9wiZwFAZbvPYh3j8Tcf2cj0iVzRyfzrfnwrITJsX4YUD0Zj4XasLkJk8jF5p178c7hmTLuwe719YhdT56Te47gK9smiZNLKvucOS0hOXLRP2PgysRVVwE5Bft3b5vzs2tpboxR40cC4HnFfBYWNJ+7jB5VHFbvOxBTN/txdAc3guzhRXjCeBTVLMGuvXvx3ruH8P5b+7Bn/SLkCLW4d/UGbneMwjJPP3EbptB69y7UkhLs2rNvVhvsWFWDjOd40Tdff3+8e3F9j+rhUWvPo0rmTy8GPbd+C0V2jZ5+8qieIQeY4pzHCQTg5/Rk9J8P4VEbTC9a/pAgLLox3LnRh1DmQuym539QDwd3YQu3GHz0zNcBqj2SPQmyi+uwfQ6Z2797K7asXEgBQfQHHPyYBNaTCPugm+olZ1WF5MoVOEz18E5U7t4+sB3ramJWxo7hmfUGCQn3ImHOXjxHm89LRHiefNNAQI/my01Q+rKw6QD1oRgdeHRr1exkKE+OyvIcCpItaOmaHv3pcTigGNMgITcLWenRaZcko1z9Z1atmqPepz/b15biqWMD6Vnnks5HifQT+v/sBRvmvBf32bOyOJLw49G5AmkSqhatnfO8/bs2YEVtDmJjrhfV9+GgGjfPXUebJh3bjpB9mZER+ry1oYoCu5hkg0iOompuPVnST28fxvtv78XuDfXICKlw6/IN3GodhT2mKoL6Idwz5GPPwR3YsXYZyhLM6O4bhu7By63pnR65Rfa3zvWc9Nm5cRnyYxohxCmnOar76S3wFKJKLHL9OQiRveL8iPl9G+4SnE9Hz80l4p9AyGlEf9tdtBvjsGrTTrx9eN+DOj+wdRVKH5miOhtO55EsUd8LzKVcnwP3M7wFnrp/FXeGzChesRvvxtiutw9tQvVTO8c0XJ1xZU4prMPWbXO38971C5GR+C21c7QNnwxnm0RIz6vCxp1zl2X7mkYUzL2Q8xPhfhERD65d5mgbTn4i4huVoXnvEHRjrL0Zd7oVcPIysWLrPvzoB2/jx/T5YM/0MjnPX7rZREYqxxAOc/LNjeflysX9ZwYu6SOCKDYTR3CyTl539HfRgzPQgXB029fZ13pdCcNhGcb1awMIpi7E/iNkYx7I+X7sXpwRPS8GiqX8z6SIyM5w8pZfjU3zylsD8ueRN+7odHzDVevj9+OOcTHOo7/mRCwqZq8Arj9zn+g/54X0O1cOcT7Wz/Hc059NqEmfv9/y4vKwZus2HDl8EB+8cxBv7dmMlZVJMI124MKpq+h3huHzaHH3cgv0yMfmA9RmMf7BwY0Vc74sfQhXQD6ECZloWL5+jvLRZ+caNHCjY+lsUXIx1m7aiqNHDlF5DuPovk1YVp4E42gnzp9pxpjt4cZA3weeRWMyGG8knJFLSk2Fx+aA0TizK+cMnOLRQaXmIzEhFbGDsDyPTFMicwut1kgB7tNHdfGT05AUDsJl1kOhU0PjS0JlUSXWNxbCrWhHvykEk9EKmTSB7sk553FIS5VSXKjA4PDj4VjIrIHC5oOgIB/Te9g+CzyklC7Bro1LUJomRVzuKmxvlEM90YWekdi3Vs+OSCxGfGICLHoTbA7nI3Xph81upDrmnoWbzhY9/ByEPVYo9Vb4U4qxqrYCpYX5KI5+0hJl4Iee9L7mZWDC0JANovRyLK2vQFnRw/vn0vN8e7NAzqP/8SmRvslJKKJ/Pw233Q6DwYGMolLUVpeiZKaOCrKpjniIFdvEtDSIycKPj048FuSHnXqStWFMGJ91SkcYAXIIZ+X8yHH0GJXQPMdI1KS0VEioTGqDDanJyXN+kp+wGPuTMWB4yIm4rAosXlg+q/3yhIGYqXX0HNQOHi8vsqB0RWUlGupqsXTpcmzZshWLsp2YUqlgmmfwqdNmJTn3ILusArVVJQ/uUVyQiWQ5D75nFtMpaoPH699j0MNKF0lKffoOZQJBIlJTA7BY9TA+OqUjFIRbp4RewI0mToIcMmRnJVAwoEVH7+Pz/I1Talge03vzQfXpMEBvlaK4rBK15cUP6qEoLxvJ8D7x7ep3DZ+fgYwUPzweFyCZW+6SEuSIGZjxzHBvmW0mHYy8ZFRVVqGmtOhBXeRnZ0IQeOKwnScghEySimSZFSaLDe5HBnd4vD7ojbGLIXx7gkEdJhQBpOVRn6gpnaWDc+Ci/8wmobQMRXIJNPe7oEEQdtsERjQy5OXkIi06P5KfkYlM6nNOo4Oqfu6655YmeFrV+xxkw/UG0sOzCfinoNWLI/Y0TgrEJydCKhJBRbZkrntxnxRu8wtSMqKMDCR4/WTXg5DPdR5dK54bTRW917ch7NBiSOOGtKAWKxeUPdTd9Ikn/cQjfRo9k/STN9Le8ak5pJ+qUE/6acmS5dix7wDqU21QT07AFFMRfFkZDr6/E/UFVO7sAtTVFcE/PIA+lQnTGwVnIicjBL/LgoDo8efkPslk27lRm1K5HPH00ap18PlnCx03YtJE+o9be+tF4dG90oUiWIdHyeI+SgAKpQ6BgBiF+Y+Pt5uBn5WN9GAARsXUY1PLwl4TRgaHMW7wwOd2Qk/6VJpdggU1lSgtKojWeQ4yU4VcnuYJSJEgj4eMp4XC6MbsAfUhuGxGjHHTkR0Pd2jl4vvgg5GRM1gw+gwzGdTj4wjLs1FbX4WKkplykj7NFcD5jPPnJDIZtV0czFYXpFLZnO2ckhgH0UsaBfgk+JxtSiMb5ON8xcfLwX2SE+Xzrjc8C65eo39yiKTc0hVxCPts0OjNcMXsPhn0e2DQaGAjR0sml0XWJIy9Q6SNZv4O2DCuMMBNjo28aAk2r12MxfULsai+BmXcGpDRl2AvSjhgwhi3I23039yDuK0mmF1uOiZCWrqctHwMj1UFD9LENCSIAIfFSvqe/OOYAgWcOkypHeAJJZG1fiWxa1M8J5EE1aOi+7Khm3gsKijdEhSUV6Mhxm/gPiJ/bGySgLQUKYR+JRRzTNk0mixwex56GUIh5wuRvHlJ3sgWzylv3AykeeRNREFLfEICzHoj7M6HO8ZOQ/EN9XejieKbtBeLb14tichIIzvl1cISnvvZuY98vuVjqOG9JJOecDzyCouxoLYGixobsHbDduxZXgC+rR9dU9wSInqStzAyCytQT/FHrH+QBfdj/kEsPIEAUorFZc7pTV0S5ihfSnIC5FIRxXoBuN1u+MhrzS8uxYIFXHkasXbjNmxZVgqRdQTj3A7e36ZzfsewRB2DMQ88oRjpZXUoCSjQ3tWDyZgpI9xQ3LG7V9EXTEZhYSEyxdSZEklZCIQwtXdgIsYz8On7cLtrAmb3M2gGQRqyEshgaBQYUKkhyCAllpYS2R2vNKzGvS4FLBYBBRXJIN+Y4KOkoRaZpPzvHf8aY7ERbtiJztttmLQEULuy8SlvLGIRk8LNR25GdIdUnhRl69Yhz6VBT0c31C8QRfO5jSaKy5Bu6cbNnklYY4aB+Wxm9Lffh1KWi4qc9Bdbw4acRyFFTyGLGYaYjFDYa8RAfz9GVa869BdEpoIGyCDHznwM+9W4fKsPdu8LDkWMkIrs1BAcxj6MqGOezafANxf6yCA9G3w+jz5+WG1kxGICAm4r985b96CJkVlJST0WJ/Nh6LyMZm2sm+vHwJ1z+Oijr9BFchiBZCSypiM5gwa3JyaZKIBYnIT4RCuUShVMpoeBW8Crw60L92F9DmMpLq5DY4oAxvbLaH0kSTh561P87//pP+OTztnHnx1hZMoUJ4uWmPiSq+NTV/oio8Wm8WKi5zp+9l9/hXPdSrij1chtES+NS4BYwL01nf/tdKQNBD7qw24KKGeuye0Ip0NnczuiswCfAR/un7kCdezjBnS41z4KgyUeSxbNMT/1EbiApaKhGu7xYXT1DMEecy0/tc/ty+1AWibyi/KodvjIb1iIAhkP3Sc+wV39w5Pd6k6cvtULY3T7/6fDyaEAvIAbNnLwfDEy4LL049KdyVmB1T80YnEq6hamQz01hv4hPWJnTfhMd/GX//tf4udfd73QejKRkcaku3guF2zUd2JTGzblPdzoetHlBgRISkpHQZ4QA73DmNTYHybcQz7oJ1rQOvySFlaNwiMpEfDISXZYwS2nOkPYO4LPTvc/9pKBJylBfZkMYVs72kcCsE8MwSBPQV5+zoM1dfjJ5GBXBGGeaMb9WcYNsHYex7/7j/8ZP79miB6Zn5BHj+Ghfkw+MiR88vZVDPLikV1YgDS6pyi3ArUZcjhI792cpfcAdcd5/Nc//zP86g6X4ORBnlGPBRkmjA73YVw/Oyk1df3v8b/++c9xruvFXmw9hlAYmaYZMBgQG3eG7CO43joFhyd6kNpWOXAVf/2Xv4nsDjzTt7jRInGJcRBTkBORuRjPX5hXFdk8iwv6+RSwVlTUoCjTglvNQ7BFFlRKxtKl+TAbJ9DeqZzVX0P2DvzkP/6f+ItfN4NbXUyQkoH8zHTwx1pxZ8oWE7CGYFRwGyiNwxnz+/kRRGY2+Mxa6GMMHD++AsuqkhDU38CJ27MTzR5VO653a+FPaMTK0vmdCH7KMiwv9kb6QNf4bOupvXcSf/ubL9CqDEdGyHAjsh02B3zeh+0b9LgxfO8OBp6YQxcjn+Q4KyOMluY+GF0P7xP2WdDffB4fHr+LCcN0eJqRkYZgwI9h8lVcMfVjaL+BG1NPCmGnEYn4ZNPtZNtjZdaHnlMX0f9Ix+MGtHH2OqDRQhkzMlGQnInCvFyIFe1oVpgRiJEzm2oAn/3t/4WfnGiD1vHkBpxeysOIKdWzeiaPI5JIUbGwDE4F+cGDk7NmDfg8g/jln/3/8Def3MYjXTQG8gfJxnAj88MeMyZVZpJb7iLcpmcpZNPyERd2Y6i9DS3DBvi469D3uuFmXG+ZhFeQgKL8PKQncYk6IWRc5wuH4LbooDG6orqUvokaep9VD1eIG/0bhpv6ye2mHqhis+EvAvnv98+fR492uh79Di067lMconORS56DqpJEut8TIPlNSC9GebYIfqsCra0dGNO5p0cL+q24d+UC7pPDIU1OQWFBViSh9zxwXg5Xx1x+z2fRQ22avvYrgx6WRw3K9/ngdDhm9ZOg7jZO3Y3VtTKUlGRBLrXi2uU+OGJkOexSoK1nDNqYaQ8iiQzlC0thJ3kbHFLMkjevawC/IHn72WdN88obn2SKi2/SzF240T0J2/Qbjgg+mykS36jiKL7JfsH4Zg64to/ocaoLk90ZfanyIsixcGEhxEIDLp7rIzmOHibCHvJ/f/13+A//9ykoYxVCLDwNzv7d3+DPfnIKwzMmmhv9JpFDJhFO2xuu7Xik00knuRx2xC7bGPYM4dj5wSf7fAIpUrOqUBKvRO/gCLTWh2eH/R50n/vv+I8/+RR3hrkloxQ4/dEv8X/+7CqMM0WmMoikEurHXCKP9DrXBk/sPK8XbNdXBiPohmp8CANKoLKuAnmpMxss8Cj45tZUsaP9TgvahtVwcG9ZdSO49uXnODvgR+nCFdi2sSayExBPlgaRuQc9o4NouU8OaSAA1WAbzlxowpjRE5mClFC0+Am7vnLEwzB0EXeHNRifEqBmSSPqylNJiaaBT8bo8s02THjikF9ehyVVGRHnnU8GoESiQlN3L1rvDsDoD8CqGsaNCxdwtUcDaeUO/OH2Iog5bRnd9bVXzUdNTRlyUmYvhjC96+sAwpmVqCFDx60TxCESJSEuMIYbg1akpBegKGO+Yf0uTPYNYcQoRePycqTOLKLMEyIpOQ4Bhx5tt+/g/rgVQb8dU5O9uHDiNJqUYixZsxorGwvALSkRdk3h5u0RiAobsLrqiXNMIvCEcvAcUxgd6cSt+0byk6lNx0Zw8/IF3O7VRgyvNKuSnPxsUtbTrfsoM7u+JpUux7Lih2lNy9QAukdMyK5bgoq0mddhFOxS4N7Xb0duQxVKMwuQ5BvA3aFR9Pep4Ql6oBntwvnTV9GrdcBLnqAouw5b6rg132Z2fTUhs64axekJkSBpmhBsOgX6+nRIqaLr5iRTG8uRLtbgWvsYBvspmHV6YFJ04dTxqxiw+8H3BiBO43Z9zYtMs+LWNuzrGYI6nIMNjfkP3oBLRGE4zAZ03OvAEAUIPpcFyrEefHP8FLpMVIdBEXIrKlBRlA4JBa9VFWJ03+1AW3svNA4v7OYptF27hHP3lZBU7sIPN2RHys1NTw44LJga7sTtli50D4/DIi5GZZYE3DIgQbeF7tmJ7nEdXB4ntGNt+PyT0xjxiMEPCpBR9OiurwLUrV2B/Eczy5EySdBztz2yQLra4aPnoTJdv4Bv7k7Al7oaP9hTijgSzOldX3sRTK9AdUn2rMV95yYZMnc3miiQHBrWwe13QTXchtNfX8Ow1UtBUADyggasq8mEBH5o1d24cbcfWpsXDqsBk5N9uHTyNNosaWhcugyLy5Nj2vQhUnEIZp0OHS3tGDL5EHCaMD7YhdOnzqOfiztDEhQuqERZbsrj6ydFmNn11QW+QE1B4Ehk/UO9og9Xz13BnQE9slbsxeFF2dTuvOiur/dhlxejpqowsrPzDFzwHi9PRtjah+t3ujGsssLltEA1dJ/a5ySGA5lYvGY7NtRMr5PDl2SiIt2K1q5B6sM3cKe9Hx2tt3D2+gDE2ZkUV7jhT6l6ZNdXDZIqq+h5ODmegQIocqDMOqrv9lHobC6qQyPGuq7isy+bYSQnLyRIRGVlJUqy4siRm9711ZNRi00LH66Z6DGMo31gEtKi5VhUMDPvNAirlvpPvxLy0gWoyk+FhM/t+noPelEBGleUPVjbKuzRoLl5CI6UGmytj7mucRKdAxPwp9aS7kmDQEg9MCUdvrG7uNY6QAGYE3auvD038NuP78CRmI2V2zajPFFAfW9611etIB+bF+VFgv0nQm3AC/mhH29Bc7cGVo8bFpMO3be/wRcX6JkpEuTL0lFdXRnZLXdm19fkshWzdBRHyDKG6x0KyIqWYWVJHPm2cZDyA1D23MXNjjHYPF6YDTq03TiFU7fo+cR8COJznmnXV52gAFvoeWIfh9Mz/VE9s570jFiQTGXoRFPvGCamzHC67VAM3MWXn1+HKsyHP8BHZslCLC6ZsX88pIksEb020N6CjhEz0gtqsGpFNZJn1tAhu5FHOnvs7j3c6+yB0kJ93qpFb9MlfHZlCH5ZDY4cXYLU+fo3Bdfcrq9No3b47XoMjyhhcTph0I/ixpef4GSfF4XVy7Fzy4Lp3fx4cSgpkpAsduPOzXuYsAfIJqrR3XwdZ673wChtwJEdVUihAIQbRZGUJEB/UxNa+hWwulwwGlTovHQcn9wxIqO4EVs3VUWuG47u+hrKqMOaytmjXcMONe5T4OhNronIG2emH4UnTgbP0IbOkUF0DzoQDNsw3ke+xbmbGCFd7qUgirNbq8q43aIFME/cxQ1qc53FCavFiKmxPpz64hh6femoW7EBy4riSUlGd32VFGPbotyZO0GUIAef9OdQ+xBCxZUoT5MjLrsYQkUzbrT2Ykxjp0DZgon+Jnz26U1oyGdZuW8falMEJB8yZCSGoFKN4u71e+gz+REkm9/f0YyzV1pIZ3NNEoeq5fPt+jpDInimNrSNT6L9bhsG9L7Ijo2ZiTJkFqfB2NuPro476Jhww+s3Y6TjLk6cu4cpezJ2fLAf9amPruAYA8lUdnEyRpvvo7VnABqbBzaLBj23zuHzW0rSJ1vw/s5iCvJ5kTW+Blvvo0NthZ/kWa0ZwuWvTuDGhAfcclWpBWS7ynIhJ/mbvesrabmEdKTy7Bjvbcble5MIhAPQqcbRevsarrYYULpsJZbXFUV+K0hPhqOjjXzHIfRPWuBxU9vcvIgTdyYQ4AUi61o9adfXeLGTbMEAhsYmYXb7YFKP4Orpk7gy5oYgSP6BvACLVpVHdB9PLIFPNYYR8r2uXm3DsEaPcEIh8lPkyMqIg0M/idtXm9Bt8CLkMmJkoB0XzlxFnysPa1c3oirv8bUeY0ng20ieVSQ/d3B3QEO2VIKsQvJho7u+GiQlkV2GY4noza4YvSkg25SQAZg6cbmpC+M6bg0xM5TDrfj843OYEqRh8bqtaCAfY05IUfGCLiimFFAayDehZ7h48SraDOlYXJ+PVHJsbfoJKHV6DHZyct2F1hvncbZ5HHbSU2nFC7B+3RIUp0roUnzwvEq09uupDGS7797E1XY15DklKJRb0DOmh9NK399uQUtbMy5db8aA2h59oSNEbv0KKqfohXZ9hYf09d1buNXages3bqNt1AQ/yW/xim3YRX1WzPkikV1fHUjMLsKCyiIkSx/2KpFYBqnAjclRNbSaCdxrasG9tlacP3UFHUonyUISKupXYv2yEiSIeOTHTaGldRRcvjd/wQrURndwDZGu6O16uOvryooERJYF8ljJhx+Hxjw9TfzcxStQxdWjoXCeTeoiu77ehyWuCPWLix8sWRB2q3D7zhCCOXXYsODBzk5wk55uG5gCshpIb6bQPaWwTpC+7VNCaya/gfRU/72L+M2JTrioH4QEcpRW16M8QwxJGsVH5CP0dFH7dmgo/vJCOdqLSxeuoYt8HR/FY/Lorq88Tt7i6b7Groi8TeidcNrMmBpqxRefnINKmEHytgX1j2xw9gBqk+SUOPjIxrTfvk3xjQ3BgA2K8en45q5KEolvVjUUkE3mfsDt+toMDT8/0i9nR4RuDN9phiKQiyXrqsgznQeq/5CP4hyS7eaOHnQMjMDEz0F1bnx019dmmCWFFOeVIGbfDISCfox23IaO7r2A22CMHkmUXohMxxCaW5pwr09P+oaLiXtw6ew10sF2VG7ZidWF5AfO6c4kIAUUG3b0oqtrAg6/HwbdBDpuXsLpZvIz0leQPi1FPE8On6mL4tQxKDRWOJ1WKMjf/+zT69DyBNQ+IuSU1qK+KJH0wSO7vpJdksWTPyP0o+fObdzjfHTybXVaktcLx3Gy3Y3imkVYu7wEcpJpmXMEnb3tuHFfFVliR6uaoBj+Oi7dG0CgcBX2cvL+6MK9rzEsUcdghHywGo0weWQorypGZtLD7cV5AgnSc/KRm8SDWauGQqmCYpIMM1+OmuXbcGD7IpBNiCJAVgkpAI8JBrsTRrUKKiO3k+xyHNlQDr/Ph/icajJiT140JGhXQ+USU9BSjMV1NShI5pwRPilUNwZ0ASSnpaO0qpoU8sMNLuLza7CYfB+tWg8N3VehIqciIEXp4k14e2cdUmeUEjmLNrMBRk8cKsoLkZ442/Bwgb1BZ4A0pxwlualk5KePc0OPxXESuBVqBBNTkZOTFjU4j0JOosZAhj6RjEAhEmPmg/FECcgvzkeywAu9To2JSSWmlCYE4zKwbP02bF1ZgaSZgMtnwfC4FUlF1RHF/XT4SM0nB4znhcGkxdQEXVttJH+/DNs2LkOmnDzdxCLUFafPO3w97CKnTe1GZmldxEGZwW3RQmsJIZfbDTZppr4CsJupnU2cQ1OGvFQ50sm5yw3ryfmzQKOk+2ttkOY14vDuhQiRUyHOrsCycs7shuGymaA3B5FdRb9N5hYHniEMj90CHTnJGeVlKEifHukgzabzhFb6jQ1GHT0fXVuSswjv/nAlhKMGCKm96msyI+szgBxUjdoEnywHS6qyIIwMi+TqPx7ZWWkQBcjAaUhGFEoymBaSz9XYvbUBMpsDycUlKIokB6lGybmvq4gjp19HAYoak5MaGF085Nauxwf76pD4YD0UAZLIKcpMogDA64bH5YYwqwb1+TLyX2RIIXmV89wwUx9Tq6gPae1IKFqDtw6vRJzZjLi8EpQWpkXWJbNrRqF2J2DB4oXInJ1DjsCX56OuUg5zbJmcYaSXLcE7h1dTgDRdkwGSYz3JsSSrDKX5JKsPK3heUktqkBHQUvuZoJ7i2s+B+JIVeGdfFRxKO4lPDRqLkyCKT4lsdR9ymqGidp6MyLERAVkmlqzdgE1LS2btshULt4B1XnYKeB479Gr6LbWByuBAetVabF9bDYnDg7TyUhRkxCZvY5lJ1KXgvX/7NvJ0I+ganKD+boAzJEVJ4yYc3FSNJNn02o7cNDiDRgleajHKi7MjQWEsQhm3cUcBBXAOaFQkE1P0ofYRJuVjzY592Lo4C7Frh0szKrGkIgk+NxcgB8GXpaFx7WbsWpxKAekoLAmV2NaQSWeG4aVgXqf3UNs8/jwieQKyM5IRdhigVGkwxdWDKYjy1Xuwe1kKbDYBistKqF9JI2//xyYskOZWYmnZQ7c14DBCyenXojpUPQjYQnBTQKc3uqk9K1CSRe3F53awViCQVIjqhfmY2ZE3MnVp0kyyWoHlkX45DZc85dpEllWJempvLtkmjktEfl4W+E4d1bUm0neU9GzSTAo69x3AqsKosAadUKnN8HO7AVZnUpA3t655CA9xicnITI2Hy0z9Wkn9Y1IFvSsOS7cexKbSIAwBCqZKiyPJNE5HDZCOyiqrx4Kc2R0k7DJgSO1CatFC1OXRd+T8JqVnUr8Uw2GhuuL6HpXbGkrF6h17sbpMDHcgAWWl+Uh5ZMHpB3DPozIhkFCA5VXc80SPc0T1jFdGAQXpGW53voz8IsR7dVCSDVBRH1IaPMhYuAW/f6AYBoUbGSWVqKZAfwYe2TY3Od0+qRjy5CxU1DSi4ZEkN1+cjqqKDLi0Krou1T3Vj9bmR0JePY5+sBuV8U+o43AYbjOdj1xs2riO/leD/sFRancd7JChqHoN9u9bhRh1D54sG40LkmHT6qHVaqh/q6Gz0v3ya7F/71qUzwTYVL+JKVmkCySwUtkmI76BGnoPn2zFKhzYvxb50etyo3omNHbEZVeR/Y8MhX+I14pJnQ3ijHI0kLzNLTIC5FRVIsFOeo9bu5Z0jsrgRkr5ShxdXxgZ+ZZSuBD11O5i6ltZ2ekI2Q0kq9NtrlAZEYpLp8BvF7YvowCfu0fACSXZ3xDZxeVVMes78cRIlvFgov6lcqdicRnZDAr480qKIXPrMKnSRfqrUueEIDkXGw6+gy3lDxdoFMZno4yCRbfVCpOO6k+hgs4OlC0lG78kl1RYEHnVZciJlz7wXx6Hj+zqhUgNWGHzBuCntsrPK4i8WOQJk1HbUAqpk8qnJ3tLdaE2OSFKKcP2Q7uwOtJno5eZBzHp6rKSFDip3abU031O5wghi/TwD99agfSIAZQiPTONdKYXRk7uON04ZQQ/oxa7dm5AdkgPYWYpygoyIi80reph6P1pqG6YWWuU27W+CEUJYRiM1BYTCkxOaWD2SlC+ZDW2rq5F5oyh4CWitDIdbr0BJquF+o6G/FEpGrbsx/6KMKZsfJQuXIIiiui5KcQaslHBhEIsJH9GKuJDklyEwhQ/BaS6B/6fX16BA9Q/8q1K+OjcBXUFUd0nRjbnh/H8cHh9CAbCSMmvQmm6OJIQLi1JB89tI19SST4a+bAkm/zkQqzfsh4rqnMgmce2zSBMIT8rVwCzzR2ZyitLyiRdngkp+R1KpRkhKuvyqkc2qSJdwukZTm8uIz0TGc0olSMnNxdSP9lZru45OaY+JEzOw9qtB7BxYfIDP/1xeBDJEkivieAifyTMF0b0U3JuNRbR9RMTkpGVlgC/yxGZJs5tUuAKkQ6ivpNTXINNmzeggSp72lXkQ56Rj8SABSY3IJGIIUvMQFVlOemlIqQEraSPuN1hA/B6gxBK4yP9L47bJIbih4LaJViQISS/zoDxCS38cZmoriolWZbNIacxiTrSzRVUT4Igt8wON1OBS14moaRuDQ5srkM69/aR/HkTnT9CcUFabhGqysiWx2zcxL2MS0zPQir5vw5qjxAvBI/bB55UhsSkdFQ0ku+3qQE58mn9H6T+3devhk8oQWHN4ohd5a7GTRMeG52C2RNCSmkjlpRwa4jyIY1PpOcEXE4v9UsxRPTJqVqKWtJDc7UNt6uqemSKnC0qK8nSzKumsN+C0XEL4kgOF5c+TFv5Of+AbLw8tyaiN0USObJzMxAgn5yzBdzuvTqHEDUb38LbjWFM2iQoLatAQQp1YJ4EuWVFSPTboLNM++RKrZVim3rs27EMyWE/hGmlZOOnRyZyvlBOXjYkFHs8kDfyhUQp+SRv+7ChlvTKdLHmhItvCkryHsY3XAxCMh2UZ1J8sxVbV1SQzxw9mepBNzoJL9nVBfUFj6yx6oeevnPJ8lG7qAiPWIsY+IhLSkV2egICnN9NMiJIJRtC8VIo4IdBNUmxWhHKS3MRH2NQudlgRuUofPEFKC8neYkk8QTIrKhFkcBItsgEJT37FNl2Nz8R9et2YN+SgidOM4+ndiuPc5NeMkBN9axQaGAgfZpa3Ii3Dq1BPvVDPslGZm4eZB7S2Rp91D/wIqtxB364Kx9GlQ/ZpRWoyCEtRbYp4nckFj60TWSX0rKykUmVZaL4ZYJrI7K3JopzyxrXYtfWJZh2A3lkC8m+CF1QG8hGTE2R3ubKEyCfcAn2b1+KgpewfuR3CS8818qHDAbjMTjl5+O2qqYeIxCRQxwbTTxCwOeJzKXndvcSiQRPdRxfFuFwkIw6t1MVOTrc4rLkxL2OColb58sXmaLKg1AkAVXRS4NLTvjI+eSmI4qpkb6rup8h8myBULTtX+b9ufWHOBnkrs217QvKVThE8umHn1vclq4jfcriWtxCxAGfLzIVhk8yJeZ293ze+1Kn4XbG8nNtTveM3WntRZhVJrqemOriucs0F1RObgpSpI65/sNNtZj3uiH4vX4qAykEuvlzyTGV309twP2Wc3C5YOvZsKPlq8/x1T0h3vvfPsBCIT9GJr6NvFH7cDIR6ZMCiKUUZDxynZBDh0EKtAQUaFVkzU4SOcau46cf34Bn4Q/x7/YXRo8+A+Q0ev2ByOLwQrH0peqBV0KsHJOjLJaJY5Ls346H9oWuK6Xrvgx5niEYgIfqmbNdQgnV87OK24vAyTbVEbcupUDEBW8vyQZxfZ6eIVL33FRz0u3P3+c5vTFzDdJDT3yrHqb+7Y3oGG7UsFhIfWu+eouR45eh357EA9+CyvNEXTxLVl9Wu3M2iBvhRXLKyf8T5TREvgi3Tx/nB4m+1RpY8zFja+kGZAOE4DaueS5iZJULJMVz+kvPIzPzQPeJ1AU11pPqIhzi7AKdFyZ7IhZFdoV99icKkw7hdjCmtqH6kER8n+esjxiCPvKjuM0GeHyyK9wOtdEvvnNibdPz68agxwmLlVujzQxeQj7K8mcScNSXXNZIAlaj08POS0B2ejoKCnKQMtcQfGpDj80MvdkKu1+IrJxspMaLI+tDmhQjGNFa4PACqVk5KMiMg52bpu4MIa2wAgXJfPhcdmi1Brh53Hqv6UiQiR5v27APE/fO4+NzrdD6i/B7//JdZFsmMK41wh2SIiM3H8W5aYiPyiDn71t1k5jQuiFLzkB+Tjri5lpLLOSH3TT9kkljdEOSmISsrEIU5CbNSrwGPSaMjGrgDPCRXlhO5Y7Wg9+JKaong82PuOxSVM6y/2F4nXZYLBboTE7E55ajJC2S/XllhIMU55C9DIVINiXUT57S78N0rof6BY+bqsslUJ94+tN9oacxE4M8t1/4GsAl8rip/pEYktuN+TnsdzhE+sdLdpD+njdG4XQctceMfzC9w/ZzEvFnOF/pKf5z9Fm4ibKRwSbc1NfnbMvXAZaoYzAYDAbje8GjibrvzgMMGDrw97++AE3iEry3dxmKMuIhAgUA+ik0XT2Pq/1BbP69f4StxbNH6TIYDAaDwXgKjyTqfvw//RgNT1oph8Fg/M7z8l9xMRgMBoPB+J1CmFqOLSurIJi8jWPHT+LTL07gky++xmfHz+DWSBh16zZjecGrfZPOYDAYDAaDwWC8CbARdQwGg8FgfC/wQ9XXhZ4pPhq3NCDjOx7HH+Y2gFFoMDWlwMSUGragBNm5xSguyEVRURaSvkcL9DIYDAaD8doQDkDTcxvf3OiEIVyIwz/aj8onL2nNYDB+x2GJOgaDwWAwvieEggEEgoCQW4Moeuy7hVvHLwC/PxBZf0r41LX8GAwGg8FgPA1ufTNPZF0tAeLksgfr6TEYjDcTlqhjMBgMBoPBYDAYDAaDwWAwXgPYGnUMBoPBYDAYDAaDwWAwGAzGawBL1DEYDAaDwWAwGAwGg8FgMBivASxRx2AwGAwGg8FgMBgMBoPBYLwGsEQdg8FgMBgMBoPBYDAYDAaD8RrAEnUMBoPBYDC+F7xu+1+x/bgYDAaDwWAwGC8btusrg8FgMBiM1xrOVfH5fAgEAq9dcozP50MikUAgEESPMBgMBoPBYDAYLw5L1DEYDAaDwXit8Xq98Hg80X+9fgiFQkilUpasYzAYDAaDwWB8awT/gYj+zWAwnkAo6I8Eih6vD/4ADyKRALzod28CoWAAHrcHQXpqgYD/mj97EB6XB75gGHwKnPlzFjaMgN9HbepHiM+HgD5vUns+P1RfXi9cHh9ZDiHV15tZWzN6IBgWPOgH4YAHDpePakgAoeDl1ovP7YDbHwKPq/M3rMpDATuaTvwGH55Ror6xEPzX+L1iKBSAsusGPv2qGa6MfBSmyN4sfcKNePQ44SFZ5ZOsPr96IP3i4/SLH3SB11O/hANwudzwhvgQC9nKMa+aad1HHodA9Mbpvu+KcDgU6bfeAOcrvUi/jYH6h67la/z5by7Bn70UZSlh+H0euHxB8L+jPh0OB+GlPuoPk58qfH4fPRyi37vp99THI/aduwDZd7vLizBP9NLt+9PwOvW4+NlvcXMCyC7KRrzwu73/M0E+kZNiAz/5RDN6MRTww+32IsiL1mPk6Csg6KW28SAQc2/GKyDaB0Lk44qoPV+cMLyaPhz74jhuaBNQV5wKQdhPdpXzqfkQUhu+hhL+DwpL1DEYz0DQa8XQ/Wv4/ItvcPraXbSMSbFoST6k0e9/9wnCNNWFT3/6JUaQiuKSDEii37wqAl7XdNAnfH7nMejX4twvP8TZHhOS84uRIRc+pvyDXgs6b53Gxye6EEjLQV5aPF5HH+j1wYWuC8fx899eRaCsAeUp4ujxNwvjaDs++/XHGArnoDQ3DRIBYG//BP/+72/AIi5EfVFi9MxnJxT0we31I/xIMBMOBnDtw/+Ej+/qkFRUj9yE6BdvAmEfpu5fxvFmFaq3HUJ5cij6xesKD2nZCfBM9eHCPSPK6yqQLP5+KJRwYDoBH+ZTIPqCPnjQ78HlX/8ZPms1I7V4IbLjo188I2G/HT13TuJnv22HMDMP+ZnxFBL8wxD0uag/Bh+zPSFrJ372Vx/htDoTW+szokffDLiEjt/LvfyiwEEgmE5gvFLCuP7r/y9+c1uNxKJG5L1Juu87xOe04MKv/xzHu93IKKpCpnz6eJj6s8vrA490wrPF5WE4VS3kT7UjULEd763JBN9tRMuFj/HX5yaRmVOA3JRX7zG7baP44v/5EC2mOJQuyEVc9PizYlMN48RHv8B9WxKKCrMRJwT8/cfw//7pediT67Aw97v1+oUiMeQyF9pudsImzkBRbjJEr1k+yjN+Az/5xRdocZdiTUUSHfFB2X8Hv/n5OWjlWSjKS8GrMoWBkXP4d3/1OTqdBVhXkxY9ynjZcH3g3/z1WUyhEMvKkqcPcklxj/e5XlwFPHrcvX4d7epUbN3WiOxEMdzKK/jzvziJMW86qqsy8GZGFvPzmnV3BuN1JAD9cAcuXO2EI7EY6zZuxLZVxZBFv2W8GpSdl3GJnBOtN3rgORAIMtG4rBwe9RBa2oZhefQaZGDMUyNovT8KcVEpKvPSIGHa8CkIkZJbjIbGGuTGk/fKeIAotQRL6qtRkvUCWoFk0aoZwJUbbRjROKMHo/D4yC5vQH1VCdLeMIXjs4yjuWMcgpyV2LwgGj2+5vBE2Viyohrp3j58fUOJ13ei7mxcyl5cvHQFPfrogReAxxcgNyKrRXiReJxLCCRnkn6pK0NWsvQf1DnV9NzA+cutUH9fGvA7wOcwoavpFlr6lXAGogdfKTxkl5E8VZe+cbrvu0QgFCOvogF1FfmgbvcA+3gLzl66gSFz9MBTCPstaL/XBQ0vDwe2Vk0H20IJ0vMrsaSmCKnxosh5jOeEJ0J6ThXqy3kY7O7HuMGN1+uVVQBqpQEejww1VdGXFwEvbCYNzNJUZKckQfYKk/q8hDwsbqzHwoLnf0HKeHb4SUVY0liLypyHb+DCXgPamm7jQrs6euQphAMwTIyge9iKsqX1KEmVR+y8MC4bdY0LUJ6fSFEG41FYaMpgPBU3dDo9LK4UrNy8GTs2rMSquiyW9X/FaPqbcbd1AMYXCZYoaMyqXIpVJSKM93SjT2GGP/oVh99jRPe9u5gK5mFRXTWykph5eDoSFDasxuG3dqE+41WPp/x+IStegx8c2Yk1VanRI89BOAi7YQzNLX1QkBMeC4/PR+3GoziyYw1Koi8x3wy8UA2PUlAiQMOyciSIvj/rviUU1WFFaTzGmy5hwBI9+Jrj1A2j6e49DJmiB14APgX8dZuO4tDWlSjiBlU8LwIZCmtW4q3D67EgP+kfbDQdh26oFbebe6Gb3R3fYEhHWUhH3eyO6Kjwd9Q4NRuO4ujOdShLiR5gvHSEUjkWbTmKAxsXzxq16FD2UB+4j0lr9MBTcKiH0DtuQ2bDUlTGT4eWPHECyhZvxvu7V6Ak83nHtjFmEMWnoryqCnGWYfRP6OAJRr94HQhZodRY4RMVoDxrWjEEPB7oVRrwUpORkhT/ShMNguxGfPDOEexflhU9wngVCPJW4Idv78eWuvToEXJdfSb0dbSjqe/Z3vBxM9MmRvthlhRhQXEW5NHcvSRtIQ6/vQebFue98pla30dYoo7xZsOtq+N2QKNSQKExwkkW8PFVkILwB4MICROREid69mmYdG0/XVurVmJcZYhc+0UIBpxk9OgakzpY/d/iXVo4BLfDCOWkEiq9De5AaI5njcIlD8w6TCgU0Jr9L/0NHjelz6ybwrhCCZM9gNArWHpKLE9D7ZIlyAyOo7VzGCbHw2EApuF7uDHoQl51HepKUh8mXUN+2AwaKpeKntuF4Ct+dRn0U9squbbVwOSkeogef25I1rwue0SOlVoLXL4ntO0ccOuyOG0mKBVq6G3cWhHRL14FJIceuxFTJIdqgz2yjuCTCAXdMOnUmFAaYPc+Zx8iOXbTcymmSNY0FurH0ePPCpXVadFT+3D9wP2CckplsBqgIJnSmBxUhpdXudyURTPVzfgUyY/d8/TyRZ9njJ7HYH1SvwvD4yB54HSFzhpZI+/llfrphN0meiYVXAklqMyKf8apV08n7FQj8NVfw/dv/mXkE/imK/rNS4SfjPqGEki8k2jtfdbMF7f+owM6tQrjJOdObn7hfDyvjiLd4LaZI31Aa/a9cN8OB/wwaBTUDzUw270v0BfIHno4W8v1exs8ZH+el1DIC4tBi8kpPazu2Fcvj0By7qM+Nz45BZ3F/cr0eMDnhl6jiuhc95N0LulXF5WHs6dqkwsv8OgPCAf9sJt0pE80MNi4Z5vnrpz/4bRiitN9SiNcTxoFx+l/o5b0AvV30sneR4UkFIBTr4COn4j0tDTIn7U/kqxyMjOp1MLqmsu3enEiuk+vxqSKru30zS+PoRC8DguUyikoye95Utd6EkE3XYP05iTZkSe5cmF6ZofFQPZNDa2Fa+uX+dQvAulyF2fbOX3hhP+VlMcNxbgKemcSGqozwH+OtUpCfg/ZMA0m1Qa4vM/ZMTh7ZjWSblOQbeXWT34K1Cc8Mz7wS7JrXH80cnqR7JXR5n0x/Rr139RKBcUKetjdgdnl4omRmZ2H/IwwBkc0cNL33xa/h/xFut+kiuIKJ/n485SbW5PXZtKTvuF8Q1/06ENCNj2mzHbwc/KQF5mTS3XssUI15UV6ahqSk58ypIF0j9VAPgz1Lb31ZccaZAecZmrvKUxprU+0OSHSJ1bSgZNT2qgv9fwNGfFVteSrTmphfoqvGvB5oFdP17+N043fVhC/LaTjjVpOV3O29RH5eymQH2I1Y3LEhLTCPGSly595LTpu2QUudp3iZND6OujU7xa26yvjjSUctKH14lncHjTB5fMhzBNCLIlHUf067FlTDBk/HBnpcu3URXQozaS8gbSsFMglQkjSl+GDt+qREL3WowR9NnRdu4DrA/rI2lMB8CGVyJBStAxH9tYh6Qkayu+yofn8V1DFVaE8Hejp6IbKNL24rTRejrKF67B1TRmiLy0RVLfiV2e7kFB/EGtlXbhwdxgWTzwWrlmJlfUF4N5jhu0jOHPyOvoNbnjJgPCE9AwJmVi8dj1WV6ZD9MCxCpNDPorbt+6ie8IcWchZIKJy55RiSW0q7h+7Cvmandi7uQbcQHND+9f45J4VS3f/ECvzpq8wg7HrDH5zU4XFe/8QawuiB0NODN9vwo22cRjsTvhCvEidZxVWYf3aJShOk8AycBWf3xyDdmoMJq8MGTmZkAsTURd9nueZBRP06NB08TQutPqx9q39WF+dBVFwEp//5LfoQTH2v3MQi3OlZDAC0PY14czNARgcVEfkbQmFEnruMqxZuwzVeYnRER5hGLvP4fPOAJat3YIlhbNLY+8/h4/uubFo7XasLJn/DXLYZ0b3vWbc6ZqA2eklw0P1IJUhLbcM6zauQ0Xa9N1C9kF8/vkdOIo24GCZHhdudEPrEKFi6WqsayxFgoiu5dXi+ukLuD/lgDcixyJIZMlYuG4rNi/IeOqaUx67ErfOXEK72gEftyagSIyE7Goc2JePex/dAhq34eDybO5MDDfdwI0uP1Z/sBWVUgGGb32JK6okrFy3GfW5s6e2eBwkc580gVe2GJs21kRk3q5ox6mLbVDb3fBQxMQtEp6YXoRV61airjjlwbD3tlO/QJe3GHXVaRhtbcGo3hVZHFoikSC7Yj32b69EwhOtfAgOzShu3ryLPhU55D5ybPkiyOWJKKlbg62rihH3FC/BYxzFtavN6JsyRhInQjHJYl4lagql6L5+BbLlR3BgVUWkDZyD5/GrOw40rt2J1WUP29051Yovz7bBQG3sjay3SM+bUYLV61eiNj8JQt4EvvpvFzBEgZTW5Eci59jKRUit3oCja0shFYRx//SH6AtWYeO21ch/cGk/lPcv4dTdSVg9Xgo+SX7EUqQXLsSWjY0oSOZkmiDHcby3CZe6g1hcmwH9cB96FdPPI5LIkZ5bjvWb16I89eEQmbBjGF9/eQMj1oe6QixLQs3KTdi8MBsSbiHHkBdT/U041+bBokUl8Gv60DZspH6TiC3vH0FJUIGbZ6/CnrMYG1YuREZMNwn7XRjruI5z/cDKtSvRUJz82BtDp6oXJ78+DXPBdryzuQ6pMh6s1mcc2vEkAi6ElBOkuDTwf/HvwUv/NxD/T7uiX357ZDIZtYOY+vcQ/u4//Qaa4n34099fgidN3A04jei4dwvNvSrY3H4KNvmQSCXIr16D7etrkPKgW5GO6r2D0zcHYXRGdZRIgtSc8oiOqspNeKCjzBNNOH5Vh5IF5ZCYBtAyqIHdG4BAKENCSi7W7tyB+iwhQuZRnL/ejO6BCSiNTsRnFiE9ToD0PE7eViGPa7ewG/23zuNSpw5Oj5t0FZ9kR4qUvGpsXrcYJRlxEVkL+r1oPfsxhnnV2LhlJXLpt0H1fXx4rgvyhQewPHwdZ5rVJK8U7FFflJL9WbV1G5YVJURefoUDTox2N+FqPw9r1y+n55meYtN77ue4bcjDkhWlmGq+jQEt6SlO3iVipBWtxpF9tUiM6cs+4xAuXGzGsMYCB9kvIdmv9PxyLKlIh2poENIFa7GmKmvOpQ5so004caMfiolx6Fwi6u/ZSBDKUbFoGdatLEOcpR1//ZPTUJYcwp8u1uLrq4MwcQumk+aScjp3/XbSuWkPNz4I+6Ef78H1252YMDjg8ZMnQHYlkdpg6cbNWF70PFO6fRi/e5n6nAIOqkNu8X+u/TMrluPA5lqkSGe0Zwg2zQiabt/DgNIKB7V7iCdAXHwSFizfhi2LMh9OLwpTP+66hTO3R2HjNsryh0lGSEdlVmDT5uWozEmAs+cUfnFNBY/NAK09jGTSUUlxyViycxtWFqfOWtc1ZJ3EtZtNUEgbsCFDhYt3RkhWKbAK8yGOS0UVV4+LypEsmf6RR9eCT74ZRfbCJSgRjON2xwRsXjmW792LVQXyaTvgo7LsWIuCGd1HZR67fQanSR5dpPv8nO0Uy5FTsRhb1ixAFink6auTDTBM4Pa12+hV2siXmbYBUmkiFm7ai23VT5oqx63J24/rF/uQ1FgFqXkc7X1KWJxkXzmblZaLxavWY1lFCkQxz29TtOCbC5x988HnI31PukCeUobt+9ahMmV6rEjYTf29+Tru2/OxvlKOoe4ODGtdpGMrceDH68BZ2kcJhYy49vEp6FMasHV3A2aP27bg+m+PQxFXjx0HF4Mb76LquooLLVrU7NgE3r0LuDlphSey5qIYSVmV2ExtW541Pe3M77bj3vkvMSWrx4b19HtbFz670E5BMekESwDJWQUkWyIULliM9aTLyUV7jLBLiYunzuC2qQR/+M5a5CdHn9VjRV/rVdwxZGDL2qXk33FJGytuf/wlBlCJ5avi0H3lPiYtnmn/lnzknLotOLqhELO9iUcJw2NVo+X2TbQOGch/D5CdkiIupQDrN1ag6zfH4KrajKNHlmJm1bKwYxRnv76GvlgfOD4DjWvWkT7IhDjaaa3KQXzzxRdwV+7Gwc2NSKdH8fd+hv/l4zEsP/AneHdpdLhwmPyhe1dwuY2TCy55wCMfQYrkbPLh1k7rr2kVY8a1334NpbwaSxfL0XerHZNmL1IWbMbbFGcIwha0XDyPpmHyt8l/I48bUvI1shasw+FNFYib0VNBE5rOnsG5Xhne+/EOVGQ8e6IjloBjEldPX0W3zgUP6RFON4glieRTrsXmRcVIiPbNkJ98h567uNEyAr3DA18gBAE9X1JuA47uX470aP7NMnwLvz1xA4LF7+H31xdRPQZhmLyNX/+yE/mbdmPf2hJIYwrK2f/x9ku4OJmAxWUp0Ax2YUBliSRNOZ8ks7gGmzetRGHCzIPbcf/ESdzR5mDnu2WYuEz9WeOEvKARO9bWI8vegr851YeiVUexr/5hn/boB3Hx6j2MaGzTGxRRv41PzkT9slVYviAXsocuD5Rdl3H21jDMVB+cqyiifpuSt4h84MXIEMec+AhcAqnt9K/Q4y/BQtIFI62tGDOQrxqka8ikyKtciz1bq5EUY2vCfhParlzB9UEj6YjoJhikk0rrV2DT0nKkyKZPtivv4osLShTV0TMGRtHUPQWHT45Vhw5iefbc485MXWfx65tKLImNuaKYey/ik5uTpBP+ABuLuP6gQXPTLfQFyH/IcURmL6ksDpJjKk9cIspql2D9igVIi06HD4xfwU8vqrBg7QFsrgYGKH652dSDUS3Fz8JkFGfF0zMnoX7tLqwtn8OukS1Uk6x88sUAqrbtwbal+Q/6+IwdyF2yCdsbpqdPK1rO4GybA0sPb4P7+jdoUtgoviEZFImQlF2LnTuWonDGz/0dJ0Z8GIw3CRMu/f3f4ItbI/DIS7F1324c2tKADHCL336CvzkzRufwwCflLouXQSYRgM8nwx4XB3l8HOLkT15DR9l0jJTiKPyJZdi2bz/e3rMCxTI7+u6exC9PTzzxzR+3u6qJHO071y7i09MtcCdWYsfhQzi8YwESyRG+eeUsvrkxTm77NGGPBROTCjSd/jn+5tNrFIibERRIIREJI2UMUXDxs7/+Alf7tJAXL8ahg/uxc1kJhJZRnPnktxQwP5zf4zdP4fblMzh/bwqSrBrsPHAY+zfWQmpow2efncGAI3piFJ9Vg9EJBRm46IEY/DYtRsYmKZCJHuAcm+ZrOHH2FkbdZKQ37sSP3tmGxbkCcniu4usrrZi0hcmXpjqWx0FM0QSP6lxKf3N1LqEDz6uUBdJ01JOhK04z48btPphcFOxc/Qb3TDwUNaxGQw6n6EOYuncOH524ii5VCOWrt+G9t3ZhZWUyzIN38MmxaxjS2Mk1JOh/fPRc41NaWFyPt6LfrsPYpApm5xNamALf4c5mnLvQCos4B+t3HMCP3t6G+jwBRu834fylJky5oucGHFBOTqLn+mf4q1+dR9uoEX6ehOQxOrIzZMGVD3+BMxS8iXPrsGv/PhzYsADxXg0uf/4ZLk88/gY0lnDYjuuffIjz3TqIMrj23oHdayohVDXjv/3fn+LmuALqB40bhNOsx8S4Fo4AObp0f3mSBMr+UYxMaGdNLeZwjnXgntIEryghklTzqMgYf3URLRMO5C3cgMNv78eGhlx41O344tQtcqgc03VMWLSjaLt3A59+cRHKUDqWrVpNAV4JeFYl7t86ieO3tdEz58ZvUePutXO43GdDesVSHH37CA5vqUK8YwK3rl0g51pPrT4/Ies4Lp+/gEutYwhnVGPPgbdwaGM9JJY2fP3NRfQbZkti0EHtrlCRfD1sd7fiFn7+8UW0jzlR2LABhw7vw4a6LNgn7+PTL69jxOSi5xVRAE36hNqTx+NDJJUinv4dL+OCTbpHOAyLZhIKtTFmFEcQI5c/xk9PNGPUJkP9hp1459Am1GULoCAH+Bef3YHBM/3GndsBz00B9mjHbXKQvsFdjQBVS1diGwVNRVIbelvv4tLVFmijYhIOq3Hyl8dxa1CP1MoVOHj4IPasq0GcR4PrX32Nm4qoYHLXtRsw1t2MLz4/hq+udGLKGiS9GA8JCaZMGockuRetbX2Y1FgftCuHx2VD1717sPp5kCckzqFHw3C63LDaJMjKSoQk1sv/tgjjwC+qAX/JEiCHnMlX5AHxxEWoLAS8Wg10T3gVGiLd3XX7Gxy71A+vvAgbdh/Au3tWIpdvRPO1Mzh2oQ/TqxaGoGg+iw9PXEOXJoSK1dtJR+3EivIkmAaobUlHjWij/Ydkxu82Y6y3Hae+Po4L/dTfapdSoLwc1SkejPS14dzJK5jg9DJn02Rx1F6kW6lDi8Uke5w8xkkfJCCm7p3FsSvtUIWzsZoc7PfJcW7Mk0DdfQXHr/XAODNSmYIWs2YCU1rzA1kNey2YJP3VdOJn+PtzoxAVLsD6dctRlyuDZaoXX31yEaPemd+TfrGSfpnSw+F+2I/sunF0d93Fp789iUFXPBqXr8J6CmikHj06m47jo8vK6JlUS+YhnDp1AVc7FNS+C7Fv/1vYv24BhIZ20iVf43LLKPRPGA3IF8pIhuUQ08Nz/VEWtfdSTt9Gz+Hw9B7HT75sgS+9EqvXrsKyslS4DaO48PnXuG+OPg+1mVnRj/OnzqJFEUBB41q8/+5ubKnPhmP8Ps6fPo025cy5TyFsRfPnv8DfnmqBVVSI1Tt34+1dy5EjclLg/w2+bosmscMB6Mfa8PnHn+PGiAvZtSvx9tu7sHtRDmwTg7hx6RRujcws2BrAyI0T+OWJW1DxcrBy6y5q283UNiJo+m7harsSFJ/DSv8TR8Gjx+GDTJ6C9MzESMCbFi9+fHZBwA29Vom2y1/iZ1+2wkM2Zde+ozi8sQFJwSncOHUO17omMaMmQyQf44O9uHz6C3z49R0Mal0QSMjfimT/SPdpJyK676E4+DF4+XP84lwH1J5MLN+yE2/vX4+KVD8G7nyDz64NRkaTc3jIFt84+QWu9FmQWEp+zxGqh5Wl4BmHcPnYr3F5+AkjMune3Igj1WQ3Th/7Gt80m5FTtxrvf3AIWxszYR9rx+mzF3F/1BY9n7SyoRm/+MU59KhD/3/2/gM8ruvKEoVX5YQq5JxzBggSBHOOIimSoiRKspKznNsdZnr+CW/SmzczPe+fnvm6p5PbtmRLtiQrB4o5B5AAASLnnKpQVaic09vnokAWMhhk03Yt+34Cb1Xde+45O6y97zn7IGfNNjz91AFsLoqCcbgOb7x+EUQtgl90czOIWm6eweu//hjnG/rJFpIfIE65aEog4IZ2hM2WN8/zs6xP9KPDGJ0w3uWETrMWw0PteO8nP8NHbRZklq7Fjk1rkBVNAXA7+dWzrTAFCw1yfHOCrj1pBJvQxmpFMrlnnJdxYImE2QQF5FLJojObfTYbzGYropOToJCEzKDye2DRT2BIbaBxmVE61t5BNDddwJtvXYZGkIaa9euxqTKZ9HcMdWfewsdNS68599kNaLr0KT651o+AKhs7Dh7FkV2rkOBsw9s/fw9N94aFg9/YhJ/8HclCuxqyzCocJQ78RE0ORJZBnHr31zjZMYfYrgATTZfwyfl6DLljsW73QbxInLEmWwld11V8erERY4aZkaLnHenH7Vvn8cYbH+Na+wQcPCH1JyO4wMC5X+PDG4PwqvKx9/BhPHtgPdIkJrRc/A1+eS1kRrYgEvFx0ZA5p6B2e2b51JXCb+rEO298iNPNBqSUbiKdeAqHNuRD5BzB1fO3iJNYOF7EVrx0nH8Lr3/WCIsknTjqQRw7WIMU6NB5+zTeuzo+fUE4Sd+nYDGrkJkRQTESnfL5YB0egIbkJiYmelaSjgOz8wYN2uqv4N0PT6PTHoX1uw7jlaO7kBdlRmvtFXx+shYTd+tKe2Ek+ezpu4HX/89bOHm7n4s3pHIxhGSA2Oz7gcEhTJju2VK3rgOffnYKl+9oEJVbjSPPPkN+oAACYzdOnDiPm133+Kq162P883s3MOpUcC9ajx3ZiTLiUoMtZ/B3v2nGciWyjep+NNwknSIfrBFmYMehwzj2BMkicfD6K5/hnZPd964RsKLhi0/w4ZUW2CNysJ3k9vj+GmTI7Lh9+nOcbhq9O/PZ6zRgsLOFfPX7eOsEjY3WSfyQ9HKJHe9YbNI/MAT9Aurjtmi5ftLdpXBsRvI4mi5/hp+9fxUT4hRs2LoVW1dnQWoZxbULV7iJBI6goAXsWor1RqG1MmNMXFUsoThNCiEzCkIRxxsUChmki+10wmaV67WwSFWIio6elYhnG/sNDY1h0nQvXnEYKc4aIn3+23/EqV4XcivWYvuGSqQovDQ2ZDtOd8HzMFPTf4+wSI+GEcYfNsx3LuDTXgdiq57Cj7++F9UFeSiq3ISXv/MytmfKMXL5I5ydABTRGdj1NEsoZFLwnI5dBw/j6y+/gFcOFCwxS8KIzl4j0vJW49ize7C6IBP5RdU49rWnUKMKYOxmPfqWtS8BcpgRqNq6B88f3YrK7DQUV+zAqz/6GqrlOnS1NaKdArZQMLKUvuUV/Pt/92f4028/iU3FyZCSi2g4fxndRgfWPvtneO3wehTlZ3IO6Ttf3Yv8SDcufHiOgjC6QMCFifEuNLXYUbrtIJ5/aidW59N9Kzfi+VdfwbbUALwPwg6CcJJDq29qw1TsRnzr5SPYtboA6elF2PnkETyzMwu6vkGOlCtyaiigeQ7bKNCVRSRj97EX8I2XD2JjEXue+wUfyox8rKIx4A9cxeu/+ineOKOGPLYcu7dmcLMBWHB3rbEXGl8pvvsvvoqj6wqRk5mHbU8cw4tHNiDOWofTDWpY7xLNh0PAboFepwVy1uHZQ7uxoSwD6ZmF2HPwWRyrkWF0bBjD6plM3TT8Lhdiy5/E/+/f/gX+4jvPYkdFOhTE86bqKUjrcaB4/3fw/ac3oTI/GyUUJHzzq7uRr7LhzEfXsRQFtTV/grMDfGSteQJff2EHqvLzUV69Hd/63jEUiNhM0CVAgawyhfpKZOSWUOhn5QQDRDK6IFAqkZWTBp5fi1tXmzBkjMeLP/o2ju8sRWFGJjbsJDk7uBlJlmZcaZuEPSQKCdBo567ajhdfPEwOejW27DyAH//wIJI9VozeacPi5Wt9MFvZDDUB1u7YiSf31KAgI5X0eyde+OZBZDv0FBxSwL7ocHox3DeAzh4tsrcfwzef2Unyk4yCynV45unj2JonW3YpXcBPQeL5JiLrShz90Z/gme1lKMrJ4gjp8T2rEGtvRX2fla6Tgn0vEYncmkskJxHVWw6SrL+Ap9ZnEuFZmJD5Jhvxxc0xOOTr8Sf/4mXsW52PvNxS7H/2RTy/Iw+8sQv46PbsTSnY0mZlzka8+vxRPEEBW82GjTj20texr9CNUQryRoJV8/2j/ehxC5Gz/Xl8df8aFOemc/Lw8qHVSFRocbN5doKUEXq/PBNHvvZ9/Ie/+Ba+9cp+5CtJ6+TRyCyqRLqjH60D47jLvwJ+mKn9Tepo5OcVIjt2IQrigdtphdsvh1ImmTVjhQM9C9xEfUknuGPuema6Bzx0w8U+Xwl8JIgz96CgaF5U5A25vpv+nicQYsTHSOH1aGFatE6dHwZ9Fy5fGUfqqm147vgTWF+cgZyiNXjhu3+CfRlWTAy0oJdMhd/QjWsNvdD6y/CDf/k1HFlXQDYqH9sPPI2vHF6HGPMtnGrQhATDBAqIZEnFOHyM7MrOGqyjYPjIqz/EC1U86LT96Bq0gR9JgcVeCg43ZHAzJQt2MVt7HE/trkICZ2x1GBi2QRBRjW985xA2l+eSPhdi96G92FKZDl1HHyasLOG8NCheR81z38M3n9yCjTXrcPC5F+ieWRBbG3Gzc/nxCUCIpNx1eOnVZ7Cb5Hfz9n343ncPIZvvIX96ByNcAxzoaetAV+8UCvY9j9eObUUF6W3x6k04fuwo1mVJ4F1mXVpERiWefuZZ7MoVUewRh21Psf44jB1VGdzM9BkEaPzzd38D33t2OzbXVGP3kefw8p5C8tiDuHZ7OrgOOAzcC5l2dy6OHX8aT2+rQFZaHtmkJ/HNr++CQjOCO00dMC7XeQEvuk6/j/fvGFB86Hv4l9/Yhw1F2cgrreGC+sx4EUbHJ7mv2ox9+OLdz6BRVuIrr76KZ3dWITcjD1U7n8KfvlABz5QePe39XPLXb+igQHYY5pid+MvXDmJTWS6yyY7s3bkNNWVJpGZu+EnX0teRjD1VisiAEvlVO/FVsk/fIF9RHL947Sk/EYX8/S/hu09tQnl+CorWbMFXjh3G6jQ7am+0Y9IQEkn6/fDzVag+8Ar+3V/+AD/4+mGsSl54Nrp3vAGf14/AEbsNf/onR7GtgmxffgWOPEdjVJYC3e0WDLAZm2QD9G0XcHlMhY37n8Erh9ahKCsPlRv24k/+/Bgy3FOou1iLORRqAfjhk+bQ9Z/Ek1sqkJmSjpodh/HqC9sQqevBnbZuTHKm04aL75/FWCAVT3/nNTy1uQwFebnYtO85vPZEMQTGWrx/dbYnZj5dnLYe3/+Lv8C/+dErePnZtXi0+wgTX+Nl4pU/+w7p/1qsJ5t//Hnqp/JU2Fra0euYeQE3G/y4Ihx96mkcq4qBQCRG1T6mA09j37p8RC0yzc3pdMLu9CFSJYZwiURCKAICCbIq9tK192Pbhmps200y+upGyHxOtNU1wRL83nz4YTR0orZuCllVO/Dcc9N2s7i8Bs+/9gM8keXH7PjdjcaLV9BtsGPNs3+O7xKnKyYOXLlpH157dR+KYry4/PH5aQ68YhgwMmaGX1yBF792kOQwF5mMM+7fi93rc2HuGcS4wRzyQj7AuYjEgu340b/8c/zL77yKY+vSIRbo0d4yCXl0OY5+ZRfx7SwUFK/B8a8fRU1KNHS9/biXcxQgQi6BWGSBgZWjua/2MvjQXVeHLrUDG8lfH99RjsLsdFRs3IT9W1YjU0LjSLoYoP/p7ryNN69bULT1Wbz28l7UFGehqJjs77cPo5DnwQTxeI5/+SzQGoywK1ORo5JyM4l9ZDNGh8cRERmNpKTFC+sGyBYnlm7Cc8cOYGM5ceD8Uhx9/jt4rlqG/p4OtHZMcknDGQQoPhEoS/C1P/1L/LsffwMvUPsTlHfnBt9DwIw2al9Hnw8bn30JX9m/FiVZKShduxPPPX0QReIhdPSPg8SB2tCHD37dAH9MFb763Rexu5riwPwSPHH8ZTxfkwhr6xc41b18Rwd4UuRVbcELx3dTLJmBorLNePVPv4NtsVYMtV1H/ci0JFi6anGhfRQxG7+Gf00cvaYwg+z4WjxDMrylRI47lxqgMYfaRlZyKQabjnwN/9dffg/f+9qTKJ+ZyviI4KdxyNr+DL7/3D5sqV6FzTufwFdeOIgS2Rh6BscwtWAAIUcOxcvHn9mMrGg5JGkbON766rMHUZ258JonxkHdVhPAXkbLF7bv8+GHh5+LV374DRzZvhYbNm3Biy89iQ15sTA1NKMnnKgLI4w/VFjQ2NAPviAJW7YVzdoUgieIw45thZAJzLh9c2CWo1g5orDnq9/Hq0+ugtw8CbVm+tBopYhP4pGD1cG8bJFxHqLSslBIZE8Z8ppVLEnEhi3FcBPhnhjXkku9B0nydjy1K2PWDkt+Sy/u9DkhjN+GnRWzDbworhyby2IhsjXhRpcPAZcD2sF+6OOyiFxnICZkdjVb+la2cTUWjKtXBA+0WtYHIqxZm4+4yHsX54lVKN36DP7VD46hOjf60RslnhIV1ZXIy1Bgsm8CRqECq/fsRAbn4wNQD49gQm9BwZYaZEhCmChPiNS8PPpdMsZbO6FnAcAjAE+RgHV7nsN3j7IlcZZ78jFlgF+VAKHTBadtdqJOrKzAwUMViJr1yt2IBi5xkon0eBN6+wfvHv1TUiTHihHQdKB90RWDPrQ0dEIYEY8160oRESI3PEkOjh+gACP474XBg0yegNwCOTQaNdQUsdyVR08fmjqIuEfnITuZ7jQ5gT6dAYJUIqe68ZC2jsDmF0ChkmFgYAwulhThwIM8NhFF5eWIDeFifFUpKtP99D0diAcvAgFi08pw/BuvYndxLJz6ezqoN6oQE++Gy2WGY3YX30XAZcCEeggGaRE2FSUhQnyvYyTRMSgsL0XqwisP7sJLQXg/MZyIyq3YOqvGsYCCiz34/p/+GE+vilt2WfJ8+DHU2Qutw4fVT2xHcujveWIii+XIiFGh+1YDScc98CXJqKRAPD7mnnyLxCJk5mTDY7fDap1O7AnSN+HHP/g2jlfJ7vYZO0x8OeQiKcz62TXXeIIYrFq3BqVzlsCx50xISkZurhLdbT2YnLJxsuH3O9FT24JAPMkNBUsLx31eCvpssLqFEPMFs+2B1wbv9b+H85tb4XxmP3e4//MH4M0Int8DX98FuP7jV4Of74DzW39DcdXCQel8eBHQ9cL9T9+F88V909d4/t8g0Kpj6sIhYO2B66+fg5OILfvc9fJL8H4wv9adSnVvd7QFQcTV3N+FSUUSBUEFSJ7Fb6XY/cpf4k+/fgSlMX6oh0YwTvJUuLUG6Wyq8QzIRqXl5SMvPRljrR3Qu+7ZKJ4wGrl5RchJm02cc0uKwHe7KdhdyVLiOGw59jx+8I2NUOi0d+WB1bqTkDzISY8M3uVra8pydmNXfqj/ESMrOwlSmYh0TR88tzgkEZEoqq5BYojA8CMKUJXJg8+rgY6EPWA3YJTaZlGVYVtR/PQS7SBk8ckoI71Nuf83PQtCGLkOu9bN3uEgJSsTkTIpJiamk9k2qxmDZNMiYxTwkU3pn7F5A8PQmJRITrBjUjvBtX0pOIdv4eQdLSIrDuK5mtmLHqUZ1fj6az/Enz9ZRP/yov/yaXTwMrBxyxYUJ8zWLnFuNlK8HjgtJjDT5zSaYCJ58futGJvQYlI3RTbVCm9kNg48/218n/xNtHzaA9h7+zEplyE+LWlWwnIxiBJXke2NmjXjTpGcipKCXMg1Q+i32O8lMfgyZORVYeOajHvL/BaEHyP9wzDbBdi0f+NsLiJMwtYjL+Jf/YujKFRIKKj3oLO1C2JFBOQSBwbv+ptB9E0okUNyYzX1Y2TpidkEMfLLi5CVGH3PF/JESEguQHWpHOMTk5gi2+LXt3GzI0WpWVCY7t2LHUZFLOIEQgw3t85KPgmUedixtZxbJjrLdD4y8JG3fS8KQ2SeJ4lDZnIMVNIpssmPrmag0+mA0+GFWCwAm2m/EiiU8VhdUwJFyPcFGQUopxOeSS0Wre7p88HU04WxCOIHRfPtZsWujUgIkQ2/lbhInwP8uC3YXTmHA8eWYlNpHMSOFlxbwQuDe4hGzYGn8L1vbUec3XjPLk7ZKa5QIMJnhcnDlrHOgAdlfCrWb1yHtJmaNRwkkKlEcNiG0H5nFBOTOujJLltdyTj82nfwb75WzZWYmYFUKoFItEByakUwYVLvgtvDh22K8TU9dESiLHYhctfuww/+/DmsT40Cz9GJ9z/pJa6TjfwUL4ZCZLlv3ENcjWytx8s9m9dghEanhyAxDiqJmJNjv3cCg4MB8n9JiF1iAyyBKg0VhTlIVt3rD7ZUPHvtemS5DRhTq2EKcSx8gQw1ew+gOKRMx0LwmaYwTr/1Z1VgbWYk7k3w4iE2vQwvfvfP8dU95YgjuXH3tKPBEUBUeio8Y6F6Ow4xcRQJ34O29sFl9UTBuGpZGWJCh4Yfh217VpEjMGF4cIKslw09/eSfLLHITXGF3Iv4usYDGdkqGclBl8F17358BXKKq1BTkTp/ZuIjgiiuBFuKEiC7+0aUD6UqGqlp0TCZbaTbjybu8fv8FPdaaBx5EKwwmc/aUrT3IHJDbZiUeGWKClKhDhO6cKIujDD+QKEnJ+CDIDIfOQts0ihOS0caMUw7Od77nxBPCLgx0l6HD956A3/zT6/j7/75F3ePU92u4JeWgwDKiAhEzX1jJOBDmpSAaAq07HbHrGnZMQX5iJtj/wJTemg9HkQV5N2t1XEPfKSlJpDR9EGjMcPrpcDRZIYqUgWlUhn8ThB8IeTkeONX+iJkHlywkMOy+KKRqJJTAB48zYEZbjG39EMiJKIXPPsowY/JR01hPBRiHhRZe7CrdMbyO2Ex2eCwxyMrUwbBHA7Ak0chgfpDYiRS41tyftmKEfA6oR5owifv/Rp/FyIff/+zX+PDS31cEDUX0qxcZM97kWaCTk90SajHrRNf4MNPQ4+zaDNJkJgshX/RVSRGTOn5RPySkLDAhlni5EQst9GokNWUyc6FaGoS4xotZib0WLub0OMRI6mwAAk0oDabDS6nC66JVnx+4uSstn50vgl6jxRxitDO50MuUyI+dm4qR4blX8YF4LJNofX6Wfzi9dfxf37yxt0+/skvf4P6iaUlLOBywW61Ec+KgZKC09nflpJexiFStTR1s1IQbKfrpKTNKdzIQEGbVCaDdLYSrBA2GjM76WoaCgvmE1a+KgFpKpJtjQa64DkGPulznJKIYPDfHHh8CKgzQ3OOPtskmm+cxj//0z/jb//pnt36h7fOo2fSOi8hw1dFISk2GnfLyYRAEJmAooICxJr7UNev5WqqeQx3UNcbQFJ6KbITFxsHsgd8atsC1wzou+C78ClEz78B6acXuEP8n55FIHgpttQSbiXE3/8595nk07cRsP4NPG/cmf7CMgjYB+H52d+DL30B0jfOcdcQ/rsSuP/nf0VAw/TfB+/F/0Gqtx3SX56avsc770L4bOX0BULAZiMtBb8/gCmtDiKFHNHR87e15LOlJTIJhAIX2WUrXI54ZJON4pYXhYCniEZCFD2zQUc2KiQ0lEm5JSah9dsY+BQQrDhf5XdCM9CCE+/8Cv/7H+/p0d/989v49GYPpkJmwC6F2OzMebVFWdDJxnl58CAWqZCUMNcASslnBP8kcHrrsEOcEI8IuvZcvY2gCFNxPyXhloAoIx0pc/qVRzot48/4Lz88HjONWwCGkS5cPB1qm7/AZ+euY8QTi1ilHPwlp8Y40d05AIMjAus25c96qciBlYbgbAmPnn8AN5rMSEgpQnneAvXXyL/7WV0ukjc2/tLYVORlpiLK1IC/+5u/x1///Rv4+Tuf4eTlJvSrzQiuICX4MNI/AqEsAkmJK9vONyI+FvK5CQWeEtFRkSTTFgoAvST/wdMk51HJyYhfNv9gh4FtxOFJREbGnM4nCCjI55ZsUyAYCExhSheA3TCBm+dn9z07ms2xSIxTQbDM1GgeIkg3FWwSyCwIpDKoYuPIXhIHIy7mNxqgZ0vO1a34ZM69PjrVCldkDJKlARrNe5AnxCGRbPKDpl2WRwSy0udqnQhiiXAez3lY8Jjc07Fy8Emnk5GQEPznXcgQFZq5WwCsyL/RYCDdJ7sZM99uSpRpSAmhr4wD64gDR+bnLsiBU1ISIBT6oSaZXzHYUuThDpx+/x3i+KF2kTjc5VZo59F8IRTyVCQlzx1tJWp2b0R6pBd1J97A//7bn+IfXv8N3vv8Eq7f6ca4ZbZ8smd/8LLySmTkZSCD2tD6yc/wP/7mJ/jbn0/fq7ZtBAb79AYChqZb6HTSePomcPHz2bL84ac3oJElIa0gHTFk41jd2Cm9B+lp8ZBJp7maxzCAYacU0aTTcUuIhCRCQXFGxL0EOAcB6Rr9LtYFh4PpVvA0gc/LRk7Owq/2QuG022GxWBETH8fVNJ4F8jdiUmYZ6QB7iWAIvnjU91yf85xf4OPro4gkAY0WLbfBBZ+ePQKxC0w3FaenIMHjhZPa4yT7ZbKwWowmtJw/O+d+p3FrwAxZLPWH957886VyxCYlIu7LMxJkq+OgJK4QqnVCMhDiuX33kGClNfgU390fVMjNmm/DpKwU1SO2YY8zVsKSwgjjDwys/gz9Z+5sjRmQkWI2gPnDB3GJ3slmfPLJOUxI8rF95248+cSeu8eatOUdzTRYG4PtnAN2fiFIxAtcO/hdwSLFRfj0rOwboc6f/c3+txAWufWCcN+dHcUQfB76i4WSD9KvDwcBt00864fY7HSisDOgFrGHov/fLQA+CyxhwNq+shZ7Zj3zQvDDqh/ElbPXMeyORc22HTg0Ix/7d2BTRcrCQbRwdo2kaUzLB1+RjwPPHMHzCx77ULRotm36uVmR1wVzChTYLZuaFEgQk5CBdIUJQ2z3MK6ghR3tDb0ISOJQVDjNxLmRp/8nFW/F08cWaidb/lxCAfY970tufX4NpBWA7QY41lGLM7f6IctYjX177+nggd1bkR+7srEMsGUgC5HiFbSJ01E6Hv1eTSQF7NrsrwXbwefqtjANm3XnYHuWhhODt8/jN6cHEFO2Hvtm5JKOQ7tWITVKNk8GeUR8+XeTE3MhQWpuDnJSRei53Qm13YGB6/XQiGNQUJ6zxIY6Qq4ukkzohpstrQ2e5ayGQEwfx8JX9xl8n16mIGx2WpsniwEvSgLfzTfg/cU/w/eL0+DFuRFQ61YybPCPNCGgHUNA0wTvez/nroG6UQT4zfAPMlJPiiLPAazD8L7zOnyX+6Z/uADMZht1OfmSJQjltC1fLvii7wTHjw3t/OeYsVFcD4Ug+LuHgEPXh7OnL6Dbm4wtO3fdlYcnn9iODUWpWGjl0UJYxP3cB6gfl3sU9rj0P1Zzi1v+PAvTffyoNotj9euWB9NVGdKLq3Ho6YVt3oEtZUia804sFAG3HqOTVriVOSgKbjC0GHwT3Rj2sA02srDQV+2jIzBTkBqbksz5P74qG3v27cXRJ3Zg1/Z1WFuRhxieCY2XTuDjiy3QWILWP6BBT58LClU6UubnRRYEn+zCQsO1oDgyuSYlWb5H2QCzC7CxnD6zOKgD+EJEJxVh3yL+5ui+LciLXahBszHDW+Yj5GzwwWKLty94L3Y8+0QxQtOcLBhm/fTwcGPhSS9kFxbs8EcPKQX1Uimf27BiJgG7EjyIf78LkoHF7Oasywb7YLGXAoIZDjzHei4F59QQrpy7gDZrJGo27wixi4zDZS24RJjPatAuoJeqnG34yvGDOLRnK7ZuWIXirDgEDL048f77ePdsL8whzWKzm7xswxcyhvffdSJkVW3DU4f2Yf/Ozdi2rgIlaXIYBhvw8Ues3qIOnoATfX0TEAiTsP2pheWYHYd3FEAecMFo1GHKHoXUeCWCeToYuntgksqQmBy3ZBKa06tF5HPhswKubvVymLkuJxvLDCnjLwyF6w8v+JzsOLwudZm+nr7fwo8y+yQbNZ4sHTuePLjgvZ5/5gmsTgvZJIRdl+zY0vdfGTyehesaPpQO3gdYX7PELJsQ4mEb+6wIzIYF//wjxqPwEmGE8XsGJWKj+PBbRjC+QCEM94QaamL08vjo+9phdAbG3kYMuqQoXb8buzetxtrVlcEjmwj0SlXOB4uFvXmew8CoXe4pA6zszbhEvMjSsXvgRSgRSUTENDK6QM0PH9QUwPp8QiTEKziyrIhQwGG1w2adMw2LAh+XwwDjIivIWE2a2bBhdDx0PiJ7C6KAjGeE1uyYUzaKnslphYYleuzuZd5ePWqwwslSiMUmjGvYMqDg6SACTjP0FHB7lFE0dvdYFpsN45v3Nt6PsWCtoMXhhcmoxohaiMJVNdi+eS1qgvJRXVmK3BgRl8hcGZgcCxBwWCCISkF66sJH1KLTZyKQmCiFy6PF2MT8BKN+eIyrZbQ0yPlGxSEtQwXNkBp6kwM+Sz/q+hyQp5ShIDhjVcLN+hDD6uYhJSlpwXamJ0ZB/PARPfweJ7WlF3ZVJlfTYnNN1V0drCpPhXI58kbtlMrlCBjNsLpcc+TRDbvDDJt9afbAfi8hHdVMzK6zwhDw2KCdJBtjdK0g4JwLCZEdCRF1PYbH5mtKwDYFtcUFXlwct/vf/cGIjjYNPNJc7DmwA1uqZ+xWJVbnJEIm5t9HKDMNYWQKVhWmQ2xox8mzZ3DyzhRUqSWomDfTIxQCLlEnEVigt9jhvqsQRFqjciF88lvgpXnh/fR1eP6f/4uOL4JLX/0ITLbA89O/R6B2jESTZIkd90P0XFMIuPT0O/rRzO/lKRAe/B74aUyRxBCufQGC3TU0jl3w/Nd/D89/+e/wvdc65zYm0ik3BOIoKBeZAcrIfUSkCm67k2xCcLOaEHisOoySfTY7hZyNEi1no1SzbdSjgGGMLbl1I7dmK/ZvDvFlVQVIiyOfMV8Ef2fgUXAYoYiAb1ILrWOO3vrZ5iRGkGv7LYEHoVBB/pTklCdEdMwC9o6OlPgoyEOW1s9FwOPmdooNyGVQzYkEA14HpnRqaAxkc+lhA1Yz7PQdoWg+Kwh4JnDrai8QlY6ivGj6rRculxciZRLK1qzHgb378NSTT+CpfZtQniHhlt/ZgwVDfboe9FqEUCWnI245whGEjcbANC8Yc3BL7F1uNitasEhguxQkiIgQQyDUYWRsvpd0WY2YGNfA7PbTtSMQGcW2ifJCply479OS4qAKrROyAAJsBrPBhrnl3PxsRYPFDD7jYGTn+apIRNEDuUi+4ha41/RB/i34+weFn3jY3LJMfvMoxpZ31F8q2OwbmZQHnd5KQfiXaxQ4u6kiu0mDwmYaz4XHoZ9VTJ9xYJVACPPo2MIcWKOH1ydAInHglcKsmcC41o6Mqg3Yu6U6xC6yZdLKldtFP+mh2wN5bBZqNm7BgSf24ejhA3jq8H6sTRNgsO4Ghu6OrYvbsMPpkUOlYJv/BE+vBCQ3HpJZt1+EpNxSbNuxE4cPPYFjh/dhV00holzkQ2zkawMOWEzM/cUgNXshGZ4+kiLZzuZ2sj8aWJSxSFRFYNqMWdHTrSNZiEdq6tL96bJaYaIYZzbz9MPtMdB5Ebd7+oOs8mU7tsqkUhj1RjjpmWfB54Z5SoNxklM3xSwRkZFcDGXziRZ8TnakMD83/etF4IfDYeWWwM+FV6eHiXwy2wGWWgUV2S+hj4xERMKC92JHLCs+/ZDwe+ayCTvGJ6wkBvdNOB8ZWKJOpFRRZ9thITkOY+VYWv7CCOMPEpGoXJ0GgWsI1670wBZqu7xa1F7vhMmnRMWqrAciVswYsrc57tB52wRjdz1ujS8342oGfpgmxtHTPwZuk50gPBRI3rnZA150NJKT49h74yXBj8xFZaYSzpHruNg2m6a4dV243k6BubwIa3Ip+CeyFZeeCdnUCLqHRmAOMfZsB7TuxhZo5zQ/MlIJv48tjRmAM6QfTb0NuHmPYRBESEhIIDLkRWtrP3SWkLUBXjtG2q/jgxM30Ruy86eQHyACZYHRNJuU+w0DuHjlGq7UhhbafVAIkJCRiqRYIbqv1xMpCg0uPFD396NnWI/YonzEEgFg0biASLnYZoNWrYE15Jkdw9dwvn35SJDJRoD6zMOWIoX83mkZQl3jyN2d25aHCuXlyRQ0DOFm3ShcIdcKuMZw/qMP8NN367F4CSQxCjdWQmGfROP12xi13WOXttF6fHB5aPkZdQShIhIpKamQTg1jWG+CtrcTQyQMOZWld5fdieOSkRkfA3vvbTRpZxMa81gnTnzwK3xaPw7HStVjKVA/sD72sRmBFJCGQt18FW36pRkuT6JCYkIyVI4BNPdpqU33OtZjMWCwuxMTywyzJDED2bFKmDuu45YmVH790Pa34OSnn+PmoBUzte25mVIuJ6wkV6F6NB9CpBdmI1bmQsPJqxgLFZaAEwPN7RjQOymAKF122fJ8sDkF9D+PE87QQMNnRntbL9SG5TcNmA8p0kqLkB0H9NY1YtghQdHqVQgplbcA+ERolYihB1BrLHCGNkYog6BsB0Rf/SFEf/YD8LdnwHfif8Hfzz70wj/cjECXB4Jj34fwpa9zB2/V0uM9C7JE8AKrINz41N3fc8exp8DLmF5OyFNmQnjoOQi//q8g+stXEYjVw/f5r+APKbXmJ13u0gQgTc3EvNVOQbClYjHZRYhzTqK7tweTM9urcXCj+cKn+PR8HcasFERmpCExRoCua2SjZu027cFEXy/ZqCnEcTZqhZmUOZiZAaWfnF0vbnrGCkvq0D3vNi9AvmkUXX3DMM82zb9T8CSxyMpIQbSvDxdqe2BibWYI+KAf70F9QwdINVYEtkLHHzBR8LXSN/9zwYM8QoXMnDjo+gcxNGYI2YgpAKuxF5+++R5O1vbCvERQz6MgT0hj49eMYyBUDwJujPfcwecfXkTbpIV7ucOTR0Dk8WBqdHTWLJyA34S6k5/h+igPxes3Ijfahf6W63jnV+fQSvo1M4RMHgViCek7H/Hx0VxSjMHQ248pakNEzOyd+paCS9uGuh7jrBcRTj3xmb4h2KLTkR1JenwfajkNVo8xHdFyNxovNEIXKns+I9rrLuODT+ow4fKAx4q7l2XARffs7hqbZVMDATXOvPVrvPt5I7TLyq8Lw509GNGa7r1AC3gxpR1AWxdbZhyPqGgp+NHEodIFsAzewp3R2R7cPlSHt976Fd6rMwTPPAgioYx0w2JVQ60OuT7bRfLUTaiXfY77B5spzV5IGqeWKaJIEBIPjImMhG1iEta5yZFHDBbwR2XlIcquRR/ZPl0o8SG72X2TZCCkCWzmKOPA7rFanG+dw4H1PahtV8MtLUA1ceCVguNwZHtdLjbrPniSzth0GnR39mGlZiPg7MPHv3wXH13sgT14Hb5AjOjkNCRHkOPwujCT9wy4TdDo2MYNSUhTTNeDc2k6cP7yTTR2TmDRCicEh24QF794Hx9cH4T1bn+xkjMiiAR++CNikERjKOXLIY0gdSIdGZ2zI7W57xYnxx82TNc2ddvtxIG13DL3SJWca0/AO4reUT8UCZlIXaZEq9cyQX5vCHrrPbvm97ox1laP4UAUkpMSoXqQRF1kLFKSkxAYa0PTqOFu/7HxsehGcPnk57jYPAyLh2x0dgmKIngYa6lF7xxDrG46jZ+98SYuDcw+Px807gYdejr6YQztsoAZ9Rdb4VIokZ6RRNZLjuzsJERIp1B7c/DubqoMAc8Umq6exhu/vowhywqd1AJQ0RgyDPX2zbq+ZbAZdYOmeUn+hwVLFjM77tProQu534IQCLlaflEuC/QGw6wyAGEsDcF/IAT/DiOMPxLwyZGkQDBaj5vtAxicYAbMh6nxblw+cwk3OtWIW/sMnlufGCxE6sREfx+6R4Giqjwkqmav558LicqFtiudGNZqYPUJ4CFC0VF3FZ9fboXGRgyCr0TZhmqkLDKpxOd2oI8cx4DeBe3EBDQWD52zQz/SjhOfnEKzlo+CNTuwtTyea5/fOIDLTSOQZazF+pw50zf4EiQkSzHc2ITmrm6MGXxgRU3Huppw+vwNtI3xsf7oEaxPk4PPE3K1G2y6XtQ19mDU6ATP58SUegAXvvgCt/rN5PTESMnNQ0F2PFfbShQlhbr+DrrHRimQdxGxs6Cv8QZOXGrCuM3J6v4iZ/UOFMbyIFKoIPOa0NN6B019egpCeDAbJtHVdANnLnWBn5SP1ZV5iJZMvz+QOIdwtWkCw0MDGBgzQaCIQHQUPd94HX768Q2MqEUo3pg/aznJUrCrO3GrSwMJ9dOG3Htv+4SyaETDiJb2FjQ2DcHKF8Fj0qCz6SZOs12YxPk4sHM10mOJkDPPJJRA112Lln4NdBY3vG4bBhsv473T9F3yjjyRAtlFlchPWIj4UUBMRFY90ow7vVo4WN0uhwUTvXX45OOr6GF9KI5CQUEBshPlROQmyKn3wBlfih1lc+dITcuxeLwetS19GNU5KChzQzfWjStnr+JGywhUq7ZhXebiu/OJValQunpwo74DbRSQ9A304U5dLc5d74IoNREOrQWRWeVYm8fSPh5oervQOexD4eYypMxsvMETQei1YGiwg2SsH23dYzC7MnHg+FokBIkWTyBDYjQPI53tqLvTBY2b+oFtyd7Tggvnr6JxTIzyqmJkxTM5BPXnRYx4k1BaWYTYOd04cuci+p0JKF1divgFupjHZzM09RS4kQ6a7dQnXphNY2g48wU+q6PxJTKliktDSUkuohbKxPPY7moCGNVDuHOnDQNTPoh4TmgmenHl9AXU0ri5/UIk5xejKD0WEgrqXRPNuNzjRFbRKhQkSsATypEcG0Bfcytut/RgysunsZxCf8cdnL9UhwFvBnasL0SCUsTNEGAyNNR8B+1DoxgYGYeJpDqN1SvhBTBw5wrG/MkorSjkNngRRSQgzjOCa01t6O5Ww8Hjw2kYQ2PtVZyr7YA1thpf2V+GKLaMmJOHXrSO+JFflE8yHGJ0KOA0qHvR1O9CdmEBshJiwDf1oLFvEH2DRrY3BcyaIdRfu4Ird1idLC/4sYXYU5XCmCXZy140D3qQQ7/NjF98hhyf5FlhH8SdAT34iZvw4oFCBGvULwqBxA/DxBg6et3IL05HDAUmLldIcp9PgUpcMgKiCfg+G4Xo6aMslkWAbGFgoAuCyr3gJSngOfEKfP/YB37akxDuLgj+mMEF3833wAusg2BDfvAcDb1KBn/jJfiuTUJYUwbQfRcDT6gAPyMTPm0j0KmAcP9GiGg82VIqS9cVfNo0ieLtR1G1aKaOB4ksAlKvGvV1JGc6KwI+tpxoDLdPncCZNh2icjdgc2kc5IooRAemyEa1orE5xEbdIRt1uRGT4gIc3FmF9Bjmmyhw0JMNbzchOa8IRXMiJpehD7XNesTnlqA0fZrYi4QWNN0ewOhQJzoH1LBREBMZH4cYsR29PcPo7OiDPkC21zGFwa5mnDt/DZ0TVvIHShSvK0EG9Rt8XvQ3XYOGl4qSsnxEU9cx33SFfBNnc+f4poBpGNdbhsBPrsLGPGqH34XJkR60j/NQVJyHFHoWhrHmC+i2xKGsugKJc2YHT7RcQvtUJMrWVSFZRnobrYTPNIJW0rsG0o+BcR2ab17EhdsjFAhLwKf+jcsvQ2FKaJHx+ZC5RznfMzrYhz7yPQGhDDFxpI9ONepu9cASXYzdFbP36Ay4JtFwuweGiHzsrkwEn/yEUiqGdqAJta2D3Isvj8MMzWALTnx2Hp0GHrJKV6Mwaf6S8hkwu+k3jKB7sBdtveQz6Rkt2gm01V8h39QGb3IpNlTmIobOCyJk0DTWoWtCB63ZQ+rtwORwO858fg7XOozI3/M8jlSncLo3NdyDuvpbaBk2MjcCm9mA0f4OnDt7EQO+ZGzZvHG6XWSL7SMNuNg+BbN2BMNqKwQyJWKi5Qu+JAw4yO529WBkygot9d2QmQ9BwIKxgXZcPHMFjcShVm3dhNV5iZDQxT3mflxvmERMTikqMufX1RskXRzxku0L+gHO9vnGUHunmeRUBy+fD6t+DE23buBSXQ/EBeuwsTAJUiEfcmUcvGSXrzX3Qcv5aQemxrpw6uNTFLTqEVeyBWvINy6cMCSWNDWODvKrWqsRg8PjsPn4xOWMGGgjfnOqnnQuDZs2bUQR6yfiWckZMvTcvI0W0heDi56N+be2epw4f4tkWoxN+2uQynbLcFsx1NeJQWcMKgqzyLYtYwwJbAm92Eeyd7sPwxN64g0+2HUDuHjqNC536bkVCoqoDFSuzQbTaANxxRbia6mr1iJvzjpME/GDVuJfCWWrkU+cxud2or/5FqbEGSgpzkZk8OtioRF1N4hXjPahd5h8Hl+KqJhIGrfpz0PBE0jhMU5w9RSl5BezomRcEE8dhrH+dvRYSUcLcxDPrZW3o/v6LUzw0lC1MW8Of3Ogt/YWhmnM12wpXPhlE/k7sYTsjbkXNxt7iWdbiWe6YNIO49KJT3C500R2SYDY1Gzy8STvQQ48coc4cGcXRqfYzqbEgbubcfb8dfKNPNQcfhIbMqZnTrksenS3t8Mbm4+i7CTIqcl+bRvOthqRWlSNshQp+XwnhgdG0N7eB51XDL7bhJF++s6Zi2gdZfUdI5DPZtfFKUlPbOi4dhtTUhqf6unxmQHTb33TSVxsHeE26PEzvj05hvrL53G1UwNRwW4cXZvEzVZz60fQ2HgHzqQqrC9K5WbiWnvO4/UTbcQBopFXQueC150LPvGhFnr+W3e6oXb4IfLbMTmpQVPtBZyvn0RKRTU2raa2CUVQBcZIZ4YxNqqmkRLCZdWgq+EGvrhYj0FXBvbuKuZ00axn3KAf8txyVBRRP1Hn+QZu4N3bkyR3W7ExW7lwnORzk21oQ8OAARa9GqOTNvgDbpiMo7h58gucbdEhNmcVtm8uIR/CRsSJgfrb6DHFoGYXnZu+yl34p3pwtnGM7Pp60meSC+IGMSTEUyO9uN3YiXHi5EKvFWPDXbhy7hLu6GQor6xEQbICArEKOUku3L7WhI4hNXFDVt+Y4rVbV3DiSjMGnFnYt5PkcNE3FAGOq3bpPDDqNBhnNTS9ThjHu3DyE4qZhu1IrdyD/WuTOXsnjYqDxDSA+sZmtA2ZiSsQz5kcQcP1q7hQ24VAehmqC5IhJ+fkNJB8N0/N8tP
