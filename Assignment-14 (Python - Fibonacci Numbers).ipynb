{ 
 "cells": [
  {
   "cell_type": "markdown",
   "id": "707479ce",
   "metadata": {},
   "source": [
    "# If i create a program while using range to see fibonacci numbers, you see the below line."
   ]
  },
  {
   "cell_type": "code",
   "execution_count": 1,
   "id": "a0129407",
   "metadata": {},
   "outputs": [
    {
     "name": "stdout",
     "output_type": "stream",
     "text": [
      "0\n",
      "1\n",
      "1\n",
      "2\n",
      "3\n",
      "5\n",
      "8\n",
      "13\n",
      "21\n",
      "34\n",
      "55\n"
     ]
    }
   ],
   "source": [
    "a = 1  \n",
    "b = 0  \n",
    "print (b)\n",
    "print(a)\n",
    "\n",
    "for i in range(1,55,6):  \n",
    " c = b  \n",
    " b = a  \n",
    " a = c + b  \n",
    " print(a)"
   ]
  }
 ],
 "metadata": {
  "kernelspec": {
   "display_name": "Python 3 (ipykernel)",
   "language": "python",
   "name": "python3"
  },
  "language_info": {
   "codemirror_mode": {
    "name": "ipython",
    "version": 3
   },
   "file_extension": ".py",
   "mimetype": "text/x-python",
   "name": "python",
   "nbconvert_exporter": "python",
   "pygments_lexer": "ipython3",
   "version": "3.9.12"
  }
 },
 "nbformat": 4,
 "nbformat_minor": 5
}
