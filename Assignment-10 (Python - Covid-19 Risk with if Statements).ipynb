{ 
 "cells": [
  {
   "cell_type": "markdown",
   "id": "ef962728",
   "metadata": {},
   "source": [
    "#  First condition is that i assigned all conditions as True, writing 1 (Yes), in order to see \"You are in risky group\". Second condition is that i assigned all conditions as False, writing 0 (No), in order to see \"You are in risky group\""
   ]
  },
  {
   "cell_type": "code",
   "execution_count": 1,
   "id": "16e7f1d4",
   "metadata": {},
   "outputs": [
    {
     "name": "stdout",
     "output_type": "stream",
     "text": [
      "Are you a cigarette addict older than 75 years old? (Yes:1, No:0)1\n",
      "Do you have a severe chronic disease? (Yes:1 / No:0) :1\n",
      "Is your immune system too weak? (Yes:1 / No:0) : 1\n",
      "You are in risky group\n"
     ]
    }
   ],
   "source": [
    "age = bool(int(input(\"Are you a cigarette addict older than 75 years old? (Yes:1, No:0)\")))\n",
    "chronic = bool(int(input(\"Do you have a severe chronic disease? (Yes:1 / No:0) :\")))\n",
    "immune = bool(int(input(\"Is your immune system too weak? (Yes:1 / No:0) : \")))\n",
    "\n",
    "risk = age or chronic or immune\n",
    "\n",
    "if risk == True:\n",
    "    print(\"You are in risky group\")\n",
    "else:\n",
    "    print(\"You are not in risky group\")"
   ]
  },
  {
   "cell_type": "code",
   "execution_count": 2,
   "id": "2df69f88",
   "metadata": {
    "scrolled": true
   },
   "outputs": [
    {
     "name": "stdout",
     "output_type": "stream",
     "text": [
      "Are you a cigarette addict older than 75 years old? (Yes:1, No:0)0\n",
      "Do you have a severe chronic disease? (Yes:1 / No:0) :0\n",
      "Is your immune system too weak? (Yes:1 / No:0) : 0\n",
      "You are not in risky group\n"
     ]
    }
   ],
   "source": [
    "age = bool(int(input(\"Are you a cigarette addict older than 75 years old? (Yes:1, No:0)\")))\n",
    "chronic = bool(int(input(\"Do you have a severe chronic disease? (Yes:1 / No:0) :\")))\n",
    "immune = bool(int(input(\"Is your immune system too weak? (Yes:1 / No:0) : \")))\n",
    "\n",
    "risk = age or chronic or immune\n",
    "\n",
    "if risk == True:\n",
    "    print(\"You are in risky group\")\n",
    "else:\n",
    "    print(\"You are not in risky group\")"
   ]
  }
 ],
 "metadata": {
  "kernelspec": {
   "display_name": "Python 3 (ipykernel)",
   "language": "python",
   "name": "python3"
  },
  "language_info": {
   "codemirror_mode": {
    "name": "ipython",
    "version": 3
   },
   "file_extension": ".py",
   "mimetype": "text/x-python",
   "name": "python",
   "nbconvert_exporter": "python",
   "pygments_lexer": "ipython3",
   "version": "3.9.12"
  }
 },
 "nbformat": 4,
 "nbformat_minor": 5
}
