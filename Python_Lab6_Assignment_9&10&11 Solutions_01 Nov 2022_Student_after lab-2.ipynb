{
 "cells": [
  {
   "cell_type": "markdown",
   "id": "c74365f6",
   "metadata": {},
   "source": [
    "<div class=\"alert alert-block alert-info\"><h1><p style=\"text-align: center; color:purple\"><font color=blue><b>Assignment 9 & 10 & 11 Solutions</b></font><br><br>Password Reminder<br><br>Covid-19 Risk with IF Statement<br><br>Leap Year </p>"
   ]
  },
  {
   "cell_type": "markdown",
   "id": "d3d8ad55",
   "metadata": {},
   "source": [
    "<a id=\"toc\"></a>\n",
    "\n",
    "### <p style=\"background-color:#9d4f8c; font-family:newtimeroman; color:#FFF9ED; font-size:175%; text-align:center; border-radius:10px 10px;\">Assignment 9 - \"Password Reminder\" Solution</p>"
   ]
  },
  {
   "cell_type": "markdown",
   "id": "c37220bb",
   "metadata": {},
   "source": [
    "<div class=\"alert alert-block alert-success\">\n",
    "<font color=red><b>Task :</b></font> \n",
    "<font color=blue><b>Let's say; you left a message in the past that prints a password you need. To see the password you wrote, you need to enter your name and the program should recognize you.<br></b></font><br>\n",
    "<font color=darkred>Write a program that:<br><br></font>\n",
    "<font color=black>Takes the first name from the user and compares it to yours,<br>\n",
    "<br>Then if the name the user entered is the same as yours, print out such as : \"Hello, <b>Joseph!</b> The password is : W@12\",<br>\n",
    "    <br>If the name the user entered is not the same as yours, print out such as : \"Hello, <b>Amina!</b> See you later.</font>"
   ]
  },
  {
   "cell_type": "code",
   "execution_count": 2,
   "id": "03b71d1b",
   "metadata": {},
   "outputs": [
    {
     "name": "stdout",
     "output_type": "stream",
     "text": [
      "Please enter your name to learn your password:EDWİN\n",
      "Hello Edwi̇n! See you later\n"
     ]
    }
   ],
   "source": [
    "name = \"Edwin\"\n",
    "\n",
    "password = \"edWin%&919{]_clrswy\"\n",
    "\n",
    "given_name = input(\"Please enter your name to learn your password:\")\n",
    "\n",
    "if given_name.title() == name :\n",
    "    print(f\"Hello, {name}! Your password is : {password}\")\n",
    "    \n",
    "else :\n",
    "    print(f\"Hello {given_name.title()}! See you later\")"
   ]
  },
  {
   "cell_type": "code",
   "execution_count": 3,
   "id": "44264458",
   "metadata": {},
   "outputs": [
    {
     "name": "stdout",
     "output_type": "stream",
     "text": [
      "Please enter your name to learn your password:EDWİN\n",
      "Hello, Edwin! Your password is : edWin%&919{]_clrswy\n"
     ]
    }
   ],
   "source": [
    "name = \"Edwin\"\n",
    "\n",
    "password = \"edWin%&919{]_clrswy\"\n",
    "\n",
    "given_name = input(\"Please enter your name to learn your password:\")\n",
    "\n",
    "if given_name.replace(\"İ\", \"I\").replace(\"ı\", \"i\").replace(\"Ö\", \"O\").\\\n",
    "            replace(\"ö\", \"o\").replace(\"Ü\", \"U\").replace(\"ü\", \"u\")\\\n",
    "            .replace(\"Ğ\", \"G\").replace(\"ğ\", \"g\").title() == name :\n",
    "    \n",
    "    print(f\"Hello, {name}! Your password is : {password}\")\n",
    "    \n",
    "else :\n",
    "    print(f\"Hello {given_name.title()}! See you later\")"
   ]
  },
  {
   "cell_type": "code",
   "execution_count": 7,
   "id": "b8432b5d",
   "metadata": {},
   "outputs": [
    {
     "name": "stdout",
     "output_type": "stream",
     "text": [
      "Please enter your name to learn your password:EDWİN\n",
      "please use only English character!\n",
      "Please enter your name to learn your password:öznur\n",
      "please use only English character!\n",
      "Please enter your name to learn your password:Edwin\n",
      "Hello, Edwin! Your password is : edWin%&919{]_clrswy\n"
     ]
    }
   ],
   "source": [
    "name = \"Edwin\"\n",
    "password = \"edWin%&919{]_clrswy\"\n",
    "Tr_list = \"ü Ü ö Ö ı İ ğ Ğ\".split()\n",
    "\n",
    "while True :\n",
    "    given_name = input(\"Please enter your name to learn your password:\")\n",
    "    count = 0\n",
    "    \n",
    "    for i in range(len(given_name)) :\n",
    "        if given_name[i] in Tr_list :\n",
    "            count += 1\n",
    "        \n",
    "    if count == 0 :\n",
    "        \n",
    "        if given_name.title() == name :\n",
    "            print(f\"Hello, {name}! Your password is : {password}\")\n",
    "            break\n",
    "        else :\n",
    "            print(f\"Hello {given_name.title()}! See you later\")\n",
    "            break\n",
    "            \n",
    "    elif count > 0 :\n",
    "    # else :\n",
    "        print(\"please use only English character!\")\n",
    "        continue\n",
    "\n"
   ]
  },
  {
   "cell_type": "markdown",
   "id": "e4f4c273",
   "metadata": {},
   "source": [
    "<div class=\"alert alert-block alert-success\">\n",
    "<font color=darkblue>BİR İFADENİN CONDITION OLMASINI, DOLAYISIYLA <font color=red><b>True &  False</b></font>DÖNMESİNİ SAĞLAYAN PYTHON OPERATÖRLERİ:<br><br></font> \n",
    "\n",
    "<font color=blue><b>1. logical operators (mantıksal operatörler):<br></b></font>\n",
    "<font color=red><b>and, or, not</b><br><br></font>\n",
    "    \n",
    "\n",
    "<font color=blue><b>2. Comparision operators (karşılaştırma operatörleri):<br></b></font>\n",
    "<font color=red><b><, >, <=, >=, ==, != </b><br><br></font>    \n",
    "    \n",
    "\n",
    "<font color=blue><b>3. Idendity Operators (yani kimlik operatorleri) :<br></b></font>\n",
    "<font color=red><b>is, is not</b><br><br></font>    \n",
    "    \n",
    "<font color=blue><b>4. Membership operator (aitlik/üyelik operatörü): <br></b></font>\n",
    "<font color=red><b>in, not in</b><br><br></font> "
   ]
  },
  {
   "cell_type": "markdown",
   "id": "b8bef823",
   "metadata": {},
   "source": [
    "<a id=\"toc\"></a>\n",
    "\n",
    "### <p style=\"background-color:#9d4f8c; font-family:newtimeroman; color:#FFF9ED; font-size:175%; text-align:center; border-radius:10px 10px;\">Assignment 10 - \"Covid-19 Risk with if Statement\" Solution</p>"
   ]
  },
  {
   "cell_type": "markdown",
   "id": "2e2ccaf7",
   "metadata": {},
   "source": [
    "<div class=\"alert alert-block alert-success\">\n",
    "<font color=red><b>Task :</b></font> \n",
    "<font color=purple><b>Estimating the risk of death from coronavirus. Write a program that;\n",
    "\n",
    "Takes \"Yes\" or \"No\" from the user as an answer to the following questions :</b></font>\n",
    "\n",
    "<font color=red>Are you a cigarette addict older than 75 years old?</font><font color=blue> Variable → age<br>\n",
    "<font color=red>Do you have a severe chronic disease?</font> <font color=blue> Variable → chronic<br></font>\n",
    "<font color=red>Is your immune system too weak?</font> <font color=blue> Variable → immune</font><br>\n",
    "\n",
    "<font color=purple><b>Set a logical algorithm using boolean logic operators (and/or) and use if-statements with the given variables in order to print out us a message : \"You are in risky group\"(if True ) or \"You are not in risky group\" (if False).</b></font>\n",
    "   \n",
    "<font color=darkblue><br>\n",
    "age =  # can be assigned only True/False<br>\n",
    "chronic =  # can be assigned only True/False<br>\n",
    "immune =  # can be assigned only True/False<br>\n",
    "risk = ?<br></font> "
   ]
  },
  {
   "cell_type": "code",
   "execution_count": 9,
   "id": "99692e9f",
   "metadata": {},
   "outputs": [
    {
     "name": "stdout",
     "output_type": "stream",
     "text": [
      "are you a cigarette addict older than 75 years old?no\n",
      "do you have a severe chronic disease?no\n",
      "is your immune system too weak?No\n",
      "you are NOT in risky group\n"
     ]
    }
   ],
   "source": [
    "age = input(\"are you a cigarette addict older than 75 years old?\").lower().strip()\n",
    "chronic = input(\"do you have a severe chronic disease?\").lower().strip()\n",
    "immune = input(\"is your immune system too weak?\").lower().strip()\n",
    "\n",
    "if (age == \"yes\") or (chronic == \"yes\") or (immune == \"yes\") :\n",
    "    print(\"You are in risky group\")\n",
    "else :\n",
    "    print(\"you are NOT in risky group\")"
   ]
  },
  {
   "cell_type": "code",
   "execution_count": 11,
   "id": "72bb4a13",
   "metadata": {},
   "outputs": [
    {
     "name": "stdout",
     "output_type": "stream",
     "text": [
      "küçük\n"
     ]
    }
   ],
   "source": [
    "if 2 < 3 :\n",
    "    print(\"küçük\")\n",
    "else :\n",
    "    print(\"büyük\")"
   ]
  },
  {
   "cell_type": "code",
   "execution_count": 12,
   "id": "4c5066e8",
   "metadata": {},
   "outputs": [
    {
     "data": {
      "text/plain": [
       "'küçük'"
      ]
     },
     "execution_count": 12,
     "metadata": {},
     "output_type": "execute_result"
    }
   ],
   "source": [
    " \"küçük\" if 2 < 3 else \"büyük\""
   ]
  },
  {
   "cell_type": "code",
   "execution_count": 13,
   "id": "ae131233",
   "metadata": {},
   "outputs": [
    {
     "name": "stdout",
     "output_type": "stream",
     "text": [
      "are you a cigarette addict older than 75 years old?no\n",
      "do you have a severe chronic disease?yes\n",
      "is your immune system too weak?no\n"
     ]
    },
    {
     "data": {
      "text/plain": [
       "'You are in risky group'"
      ]
     },
     "execution_count": 13,
     "metadata": {},
     "output_type": "execute_result"
    }
   ],
   "source": [
    "age = input(\"are you a cigarette addict older than 75 years old?\").lower().strip()\n",
    "chronic = input(\"do you have a severe chronic disease?\").lower().strip()\n",
    "immune = input(\"is your immune system too weak?\").lower().strip()\n",
    "\n",
    "\n",
    "\"You are in risky group\" if (age == \"yes\") or (chronic == \"yes\") or (immune == \"yes\") else \"You are NOT in risky group\""
   ]
  },
  {
   "cell_type": "code",
   "execution_count": 14,
   "id": "1d9640b7",
   "metadata": {},
   "outputs": [
    {
     "name": "stdout",
     "output_type": "stream",
     "text": [
      "are you a cigarette addict older than 75 years old?no\n",
      "do you have a severe chronic disease?no\n",
      "is your immune system too weak?yes\n",
      "You are in risky group\n"
     ]
    }
   ],
   "source": [
    "age = input(\"are you a cigarette addict older than 75 years old?\").lower().strip() == \"yes\"\n",
    "chronic = input(\"do you have a severe chronic disease?\").lower().strip() == \"yes\"\n",
    "immune = input(\"is your immune system too weak?\").lower().strip() == \"yes\"\n",
    "\n",
    "if age or chronic or immune :\n",
    "    \n",
    "     print(\"You are in risky group\")\n",
    "else :\n",
    "    print(\"you are NOT in risky group\")"
   ]
  },
  {
   "cell_type": "markdown",
   "id": "4d3656ab",
   "metadata": {},
   "source": [
    "<a id=\"toc\"></a>\n",
    "\n",
    "### <p style=\"background-color:#9d4f8c; font-family:newtimeroman; color:#FFF9ED; font-size:175%; text-align:center; border-radius:10px 10px;\">Assignment 11 - \"Leap Year\" Solution</p>"
   ]
  },
  {
   "cell_type": "markdown",
   "id": "5595af71",
   "metadata": {},
   "source": [
    "<div class=\"alert alert-block alert-success\">\n",
    "<font color=red><b>Task :</b></font> \n",
    "<font color=purple><b>Find out if a given year is a \"leap\" year.</b></font>\n",
    "\n",
    "<font color=darkred>In the Gregorian calendar, three criteria must be taken into account to identify leap years:</font> \n",
    "\n",
    "- <font color=blue>The year must be evenly divisible by 4;\n",
    "- <font color=blue>If the year can also be evenly divided by 100, it is not a leap year; unless...\n",
    "- <font color=blue>The year is also evenly divisible by 400. Then it is a leap year.</font><br><br>\n",
    "<font color=purple>According to these rules, the years 2000 and 2400 are leap years, while 1800, 1900, 2100, 2200, 2300, and 2500 are not the leap years.<br></font>\n",
    "\n",
    "<font color=red>Write a Python program that prints such as \"2020 is a leap year\" if the given year by the user is a leap year, prints such as \"2019 is not a leap year\" otherwise.</font>"
   ]
  },
  {
   "cell_type": "code",
   "execution_count": 6,
   "id": "2783ead1",
   "metadata": {},
   "outputs": [
    {
     "name": "stdout",
     "output_type": "stream",
     "text": [
      "enter a year :2400\n",
      "2400 is a leap year.\n"
     ]
    }
   ],
   "source": [
    "year = int(input(\"enter a year :\"))\n",
    "\n",
    "if year % 4 == 0 and year % 100 != 0 :\n",
    "    print(f\"{year} is a leap year\")\n",
    "    \n",
    "elif year % 100 == 0 and year % 400 == 0:\n",
    "    print(f\"{year} is a leap year.\")\n",
    "\n",
    "else :\n",
    "    print(f\"{year} is NOT a leap year\")"
   ]
  },
  {
   "cell_type": "code",
   "execution_count": 1,
   "id": "eee9dae3",
   "metadata": {},
   "outputs": [
    {
     "name": "stdout",
     "output_type": "stream",
     "text": [
      "enter a year :2200\n",
      "2200 is NOT a leap year\n"
     ]
    }
   ],
   "source": [
    "year = input(\"enter a year :\")\n",
    "\n",
    "if int(year) % 400 == 0 :\n",
    "    print(year, \"is a leap year\")\n",
    "    \n",
    "elif int(year) % 100 == 0:\n",
    "    print(year, \"is NOT a leap year\")\n",
    "    \n",
    "elif int(year) % 4 == 0 :\n",
    "    print(year, \"is a leap year\")\n",
    "\n",
    "else :\n",
    "    print(year, \"is NOT a leap year\")"
   ]
  }
 ],
 "metadata": {
  "kernelspec": {
   "display_name": "Python 3 (ipykernel)",
   "language": "python",
   "name": "python3"
  },
  "language_info": {
   "codemirror_mode": {
    "name": "ipython",
    "version": 3
   },
   "file_extension": ".py",
   "mimetype": "text/x-python",
   "name": "python",
   "nbconvert_exporter": "python",
   "pygments_lexer": "ipython3",
   "version": "3.9.12"
  }
 },
 "nbformat": 4,
 "nbformat_minor": 5
}
