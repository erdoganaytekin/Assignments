{
 "cells": [
  {
   "cell_type": "raw",
   "id": "e475a7c3",
   "metadata": {},
   "source": [
    "# Task : Print the prime numbers which are between 1 to entered limit number (n).\n",
    "\n",
    "You can use a nested for loop.\n",
    "Collect all these numbers into a list\n",
    "The desired output for n=100 :\n",
    "\n",
    "[2, 3, 5, 7, 11, 13, 17, 19, 23, 29, 31, 37, 41, 43, 47, 53, 59,\n",
    "61, 67, 71, 73, 79, 83, 89, 97]"
   ]
  },
  {
   "cell_type": "code",
   "execution_count": 3,
   "id": "399ad799",
   "metadata": {},
   "outputs": [
    {
     "name": "stdout",
     "output_type": "stream",
     "text": [
      "[2, 3, 5, 7, 11, 13, 17, 19, 23, 29, 31, 37, 41, 43, 47, 53, 59, 61, 67, 71, 73, 79, 83, 89, 97]\n"
     ]
    }
   ],
   "source": [
    "def prime_num(n):\n",
    "  prime_num=True\n",
    "  for i in range(2,n):\n",
    "    if n==2:\n",
    "      prime_num= True\n",
    "    elif n%i==0:\n",
    "      prime_num= False\n",
    "  return prime_num\n",
    "def prime(n):\n",
    "  return [i for i in range(2,n) if prime_num(i)]\n",
    "print(prime(100))"
   ]
  },
  {
   "cell_type": "markdown",
   "id": "cb2380ed",
   "metadata": {},
   "source": [
    "# If you want to write prime numbers when using \"def\" function, you will use bool, range and return. If n dives to 0 completely thats True or reverse gets False. "
   ]
  },
  {
   "cell_type": "code",
   "execution_count": null,
   "id": "661c28d4",
   "metadata": {},
   "outputs": [],
   "source": []
  }
 ],
 "metadata": {
  "kernelspec": {
   "display_name": "Python 3 (ipykernel)",
   "language": "python",
   "name": "python3"
  },
  "language_info": {
   "codemirror_mode": {
    "name": "ipython",
    "version": 3
   },
   "file_extension": ".py",
   "mimetype": "text/x-python",
   "name": "python",
   "nbconvert_exporter": "python",
   "pygments_lexer": "ipython3",
   "version": "3.9.12"
  }
 },
 "nbformat": 4,
 "nbformat_minor": 5
}
