{
 "cells": [
  {
   "cell_type": "code",
   "execution_count": 2,
   "id": "0f1df7d7",
   "metadata": {},
   "outputs": [
    {
     "name": "stdout",
     "output_type": "stream",
     "text": [
      "153\n",
      "The given number 153 is armstrong number\n"
     ]
    }
   ],
   "source": [
    "n = int(input())\n",
    "x = n\n",
    "b = len(str(n))\n",
    "sum1 = 0\n",
    "while n != 0:\n",
    "    r = n % 10\n",
    "    sum1 = sum1+(r**b)\n",
    "    n = n//10\n",
    "if x == sum1:\n",
    "    print(\"The given number\", x, \"is armstrong number\")\n",
    "else:\n",
    "    print(\"The given number\", x, \"is not armstrong number\")"
   ]
  },
  {
   "cell_type": "code",
   "execution_count": null,
   "id": "616ed87a",
   "metadata": {},
   "outputs": [],
   "source": [
    "n = input()\n",
    "if n < 0 or n == float() or n == str():\n",
    "    print(\"It is an invalid entry. Don't use non-numeric, float, or negative values!\")\n",
    "else:\n",
    "    n = int(input()) \n",
    "    s = n  # assigning input value to the s variable\n",
    "    b = len(str(n))\n",
    "    sum1 = 0\n",
    "    while n != 0:\n",
    "        r = n % 10\n",
    "        sum1 = sum1+(r**b)\n",
    "        n = n//10\n",
    "    if s == sum1:\n",
    "        print(\"The given number\", s, \"is armstrong number\")\n",
    "    else:\n",
    "        print(\"The given number\", s, \"is not armstrong number\")"
   ]
  },
  {
   "cell_type": "markdown",
   "id": "f72ff9cc",
   "metadata": {},
   "source": [
    "#  The first code line show us  when we enter a int number, it give us is armstrong number or is not armstrong number. The second code line, i tried to display how to write \"It is an invalid entry. Don't use non-numeric, float, or negative values!\" but i could not."
   ]
  }
 ],
 "metadata": {
  "kernelspec": {
   "display_name": "Python 3 (ipykernel)",
   "language": "python",
   "name": "python3"
  },
  "language_info": {
   "codemirror_mode": {
    "name": "ipython",
    "version": 3
   },
   "file_extension": ".py",
   "mimetype": "text/x-python",
   "name": "python",
   "nbconvert_exporter": "python",
   "pygments_lexer": "ipython3",
   "version": "3.9.12"
  }
 },
 "nbformat": 4,
 "nbformat_minor": 5
}
