{
 "cells": [
  {
   "cell_type": "code",
   "execution_count": 24,
   "id": "9035f8cc",
   "metadata": {},
   "outputs": [
    {
     "name": "stdout",
     "output_type": "stream",
     "text": [
      "Enter your first name: JOSEPH\n",
      "Hello, Joseph! The password is : W@12\n"
     ]
    }
   ],
   "source": [
    "name = str(input(\"Enter your first name: \")).title()\n",
    "    \n",
    "if name == \"Joseph\":\n",
    "    print(\"Hello, Joseph! The password is : W@12\")\n",
    "else:\n",
    "    print(\"Hello, Amina! See you later.\")"
   ]
  },
  {
   "cell_type": "code",
   "execution_count": 26,
   "id": "b186f801",
   "metadata": {},
   "outputs": [
    {
     "name": "stdout",
     "output_type": "stream",
     "text": [
      "Enter your first name: JOSEP\n",
      "Hello, Amina! See you later.\n"
     ]
    }
   ],
   "source": [
    "name = str(input(\"Enter your first name: \")).title()\n",
    "    \n",
    "if name == \"Joseph\":\n",
    "    print(\"Hello, Joseph! The password is : W@12\")\n",
    "else:\n",
    "    print(\"Hello, Amina! See you later.\")"
   ]
  },
  {
   "cell_type": "markdown",
   "id": "3383870f",
   "metadata": {},
   "source": [
    "#  The first code line, when you ask to first name as four different  ways, you see the same result like \"Hello, Joseph! The password is : W@12\" becasue of title() method."
   ]
  },
  {
   "cell_type": "markdown",
   "id": "ffebe7d0",
   "metadata": {},
   "source": [
    "# The second code line display us, if you write the first name rather than Joseph, JOSEPH, joseph and JoSePh, etc. you will take \"Hello, Amina! See you later.\""
   ]
  }
 ],
 "metadata": {
  "kernelspec": {
   "display_name": "Python 3 (ipykernel)",
   "language": "python",
   "name": "python3"
  },
  "language_info": {
   "codemirror_mode": {
    "name": "ipython",
    "version": 3
   },
   "file_extension": ".py",
   "mimetype": "text/x-python",
   "name": "python",
   "nbconvert_exporter": "python",
   "pygments_lexer": "ipython3",
   "version": "3.9.12"
  }
 },
 "nbformat": 4,
 "nbformat_minor": 5
}
